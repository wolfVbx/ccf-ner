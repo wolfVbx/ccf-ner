{
 "cells": [
  {
   "cell_type": "markdown",
   "metadata": {},
   "source": [
    "## 使用传统方法做特征\n",
    "- 正则\n",
    "- crf++\n",
    "#### 要想使用正则表达式，就必须先把各个类别的数据分类聚合起来，即看看每个类别的数据有什么特点，然后在看如何使用正则表达式"
   ]
  },
  {
   "cell_type": "code",
   "execution_count": 1,
   "metadata": {},
   "outputs": [],
   "source": [
    "import pandas as pd\n",
    "import numpy as np\n",
    "import re\n",
    "import os\n",
    "from tqdm import tqdm"
   ]
  },
  {
   "cell_type": "code",
   "execution_count": 2,
   "metadata": {},
   "outputs": [],
   "source": [
    "train_data_path = '../data/train_data/'\n",
    "train_data_label = '../data/train_label/'\n",
    "test_data_path = '../data/test_data/'"
   ]
  },
  {
   "cell_type": "code",
   "execution_count": 3,
   "metadata": {},
   "outputs": [],
   "source": [
    "def get_dataframe(data_path_dir):\n",
    "    id_list = []\n",
    "    data_list = []\n",
    "    data_id_list = [file.split('.')[0] for file in os.listdir(data_path_dir) if '.txt' in file]\n",
    "    for ID in tqdm(set(data_id_list)):\n",
    "        data_path = os.path.join(data_path_dir,ID+'.txt')\n",
    "        with open(data_path,'r',encoding='utf-8') as f:\n",
    "            line = ''.join(f.readlines())\n",
    "        id_list.append(ID)\n",
    "        data_list.append(line)\n",
    "    df_data = pd.DataFrame()\n",
    "    df_data['id']=id_list\n",
    "    df_data['data']=data_list\n",
    "    return df_data"
   ]
  },
  {
   "cell_type": "code",
   "execution_count": 4,
   "metadata": {},
   "outputs": [
    {
     "name": "stderr",
     "output_type": "stream",
     "text": [
      "100%|██████████| 2515/2515 [00:20<00:00, 123.47it/s]\n",
      "100%|██████████| 3956/3956 [00:30<00:00, 128.02it/s]\n"
     ]
    }
   ],
   "source": [
    "df_train = get_dataframe(train_data_path)\n",
    "df_test = get_dataframe(test_data_path)"
   ]
  },
  {
   "cell_type": "code",
   "execution_count": 23,
   "metadata": {},
   "outputs": [
    {
     "data": {
      "text/html": [
       "<div>\n",
       "<style scoped>\n",
       "    .dataframe tbody tr th:only-of-type {\n",
       "        vertical-align: middle;\n",
       "    }\n",
       "\n",
       "    .dataframe tbody tr th {\n",
       "        vertical-align: top;\n",
       "    }\n",
       "\n",
       "    .dataframe thead th {\n",
       "        text-align: right;\n",
       "    }\n",
       "</style>\n",
       "<table border=\"1\" class=\"dataframe\">\n",
       "  <thead>\n",
       "    <tr style=\"text-align: right;\">\n",
       "      <th></th>\n",
       "      <th>id</th>\n",
       "      <th>data</th>\n",
       "    </tr>\n",
       "  </thead>\n",
       "  <tbody>\n",
       "    <tr>\n",
       "      <th>0</th>\n",
       "      <td>2844</td>\n",
       "      <td>80后小警微博，今学习工作在网络，期待与您共同关注互联网、关注我们身边的互联网安全。微博纯属...</td>\n",
       "    </tr>\n",
       "    <tr>\n",
       "      <th>1</th>\n",
       "      <td>1316</td>\n",
       "      <td>華納歌手2012年最新派台歌&lt;到此為止&gt;&lt;好好過&gt;／2011年電影&lt;喜愛夜蒲&gt;女主角／希望大...</td>\n",
       "    </tr>\n",
       "    <tr>\n",
       "      <th>2</th>\n",
       "      <td>2879</td>\n",
       "      <td>已出版《蝎子的猎物》《可惜我是水瓶座》《天使的嫁纱》；2009年于台湾出版个人星座系列小说：...</td>\n",
       "    </tr>\n",
       "    <tr>\n",
       "      <th>3</th>\n",
       "      <td>898</td>\n",
       "      <td>以一种勇敢无畏的精神，兢兢业业的作风，昂扬的斗志积极践行着“奉献、有爱、互助、进步”的志愿精...</td>\n",
       "    </tr>\n",
       "    <tr>\n",
       "      <th>4</th>\n",
       "      <td>2266</td>\n",
       "      <td>遊走中港台的時尚精靈，歌手，RinaBijoux訂製珠寶設計師工作聯繫:海風時尚娛樂Benn...</td>\n",
       "    </tr>\n",
       "    <tr>\n",
       "      <th>...</th>\n",
       "      <td>...</td>\n",
       "      <td>...</td>\n",
       "    </tr>\n",
       "    <tr>\n",
       "      <th>3951</th>\n",
       "      <td>856</td>\n",
       "      <td>Livethelifeyoulove，lovethelifeyoulive.，作家，《误入妻...</td>\n",
       "    </tr>\n",
       "    <tr>\n",
       "      <th>3952</th>\n",
       "      <td>1609</td>\n",
       "      <td>爱好排行榜：1MyPrincess，2电影，3动漫绘画，4游戏，5写作，6……兴趣排行榜：1...</td>\n",
       "    </tr>\n",
       "    <tr>\n",
       "      <th>3953</th>\n",
       "      <td>2440</td>\n",
       "      <td>金华市中心医院肛肠外科主任、学科带头人，省肛肠外科学分会委员，金华市肛肠外科学分会主任委员、...</td>\n",
       "    </tr>\n",
       "    <tr>\n",
       "      <th>3954</th>\n",
       "      <td>2837</td>\n",
       "      <td>自由的惰性气体，可以改变我的形状，却改变不了我的分子。代表作品静态电影《风声后传》《望天树，...</td>\n",
       "    </tr>\n",
       "    <tr>\n",
       "      <th>3955</th>\n",
       "      <td>560</td>\n",
       "      <td>简简单单做人，认认真真做事，踏踏实实生活，知足常乐人生!，开门评警—第四届“我最喜爱的人民警...</td>\n",
       "    </tr>\n",
       "  </tbody>\n",
       "</table>\n",
       "<p>3956 rows × 2 columns</p>\n",
       "</div>"
      ],
      "text/plain": [
       "        id                                               data\n",
       "0     2844  80后小警微博，今学习工作在网络，期待与您共同关注互联网、关注我们身边的互联网安全。微博纯属...\n",
       "1     1316  華納歌手2012年最新派台歌<到此為止><好好過>／2011年電影<喜愛夜蒲>女主角／希望大...\n",
       "2     2879  已出版《蝎子的猎物》《可惜我是水瓶座》《天使的嫁纱》；2009年于台湾出版个人星座系列小说：...\n",
       "3      898  以一种勇敢无畏的精神，兢兢业业的作风，昂扬的斗志积极践行着“奉献、有爱、互助、进步”的志愿精...\n",
       "4     2266  遊走中港台的時尚精靈，歌手，RinaBijoux訂製珠寶設計師工作聯繫:海風時尚娛樂Benn...\n",
       "...    ...                                                ...\n",
       "3951   856  Livethelifeyoulove，lovethelifeyoulive.，作家，《误入妻...\n",
       "3952  1609  爱好排行榜：1MyPrincess，2电影，3动漫绘画，4游戏，5写作，6……兴趣排行榜：1...\n",
       "3953  2440  金华市中心医院肛肠外科主任、学科带头人，省肛肠外科学分会委员，金华市肛肠外科学分会主任委员、...\n",
       "3954  2837  自由的惰性气体，可以改变我的形状，却改变不了我的分子。代表作品静态电影《风声后传》《望天树，...\n",
       "3955   560  简简单单做人，认认真真做事，踏踏实实生活，知足常乐人生!，开门评警—第四届“我最喜爱的人民警...\n",
       "\n",
       "[3956 rows x 2 columns]"
      ]
     },
     "execution_count": 23,
     "metadata": {},
     "output_type": "execute_result"
    }
   ],
   "source": [
    "df_train\n",
    "df_test"
   ]
  },
  {
   "cell_type": "code",
   "execution_count": 5,
   "metadata": {},
   "outputs": [],
   "source": [
    "def get_label(data_dir):\n",
    "    # 获取的数据\n",
    "    label_list = []\n",
    "    \n",
    "    # 获取ID\n",
    "    label_id_list = [file_name.split('.')[0] for file_name in os.listdir(data_dir) if '.csv' in file_name]\n",
    "    # 循环ID\n",
    "    for ID in tqdm(set(label_id_list)):\n",
    "        \n",
    "        # 获取标签\n",
    "        label_path = os.path.join(data_dir,ID+'.csv')\n",
    "        df_label = pd.read_csv(label_path)\n",
    "        label_list += [df_label]\n",
    "    # dataframe\n",
    "    df_label = pd.concat(label_list)\n",
    "    return df_label"
   ]
  },
  {
   "cell_type": "code",
   "execution_count": 6,
   "metadata": {},
   "outputs": [
    {
     "name": "stderr",
     "output_type": "stream",
     "text": [
      "100%|██████████| 2515/2515 [00:31<00:00, 80.24it/s]\n"
     ]
    },
    {
     "data": {
      "text/html": [
       "<div>\n",
       "<style scoped>\n",
       "    .dataframe tbody tr th:only-of-type {\n",
       "        vertical-align: middle;\n",
       "    }\n",
       "\n",
       "    .dataframe tbody tr th {\n",
       "        vertical-align: top;\n",
       "    }\n",
       "\n",
       "    .dataframe thead th {\n",
       "        text-align: right;\n",
       "    }\n",
       "</style>\n",
       "<table border=\"1\" class=\"dataframe\">\n",
       "  <thead>\n",
       "    <tr style=\"text-align: right;\">\n",
       "      <th></th>\n",
       "      <th>ID</th>\n",
       "      <th>Category</th>\n",
       "      <th>Pos_b</th>\n",
       "      <th>Pos_e</th>\n",
       "      <th>Privacy</th>\n",
       "    </tr>\n",
       "  </thead>\n",
       "  <tbody>\n",
       "    <tr>\n",
       "      <th>0</th>\n",
       "      <td>1257</td>\n",
       "      <td>movie</td>\n",
       "      <td>9</td>\n",
       "      <td>15</td>\n",
       "      <td>Believe</td>\n",
       "    </tr>\n",
       "    <tr>\n",
       "      <th>1</th>\n",
       "      <td>1257</td>\n",
       "      <td>movie</td>\n",
       "      <td>17</td>\n",
       "      <td>23</td>\n",
       "      <td>Lucifer</td>\n",
       "    </tr>\n",
       "    <tr>\n",
       "      <th>0</th>\n",
       "      <td>757</td>\n",
       "      <td>company</td>\n",
       "      <td>21</td>\n",
       "      <td>24</td>\n",
       "      <td>Nike</td>\n",
       "    </tr>\n",
       "    <tr>\n",
       "      <th>1</th>\n",
       "      <td>757</td>\n",
       "      <td>position</td>\n",
       "      <td>29</td>\n",
       "      <td>30</td>\n",
       "      <td>教练</td>\n",
       "    </tr>\n",
       "    <tr>\n",
       "      <th>2</th>\n",
       "      <td>757</td>\n",
       "      <td>position</td>\n",
       "      <td>91</td>\n",
       "      <td>92</td>\n",
       "      <td>教练</td>\n",
       "    </tr>\n",
       "    <tr>\n",
       "      <th>...</th>\n",
       "      <td>...</td>\n",
       "      <td>...</td>\n",
       "      <td>...</td>\n",
       "      <td>...</td>\n",
       "      <td>...</td>\n",
       "    </tr>\n",
       "    <tr>\n",
       "      <th>6</th>\n",
       "      <td>654</td>\n",
       "      <td>movie</td>\n",
       "      <td>79</td>\n",
       "      <td>85</td>\n",
       "      <td>《风雨上海滩》</td>\n",
       "    </tr>\n",
       "    <tr>\n",
       "      <th>7</th>\n",
       "      <td>654</td>\n",
       "      <td>movie</td>\n",
       "      <td>86</td>\n",
       "      <td>91</td>\n",
       "      <td>《一碗沧桑》</td>\n",
       "    </tr>\n",
       "    <tr>\n",
       "      <th>8</th>\n",
       "      <td>654</td>\n",
       "      <td>movie</td>\n",
       "      <td>92</td>\n",
       "      <td>97</td>\n",
       "      <td>《沙海剑魂》</td>\n",
       "    </tr>\n",
       "    <tr>\n",
       "      <th>9</th>\n",
       "      <td>654</td>\n",
       "      <td>movie</td>\n",
       "      <td>100</td>\n",
       "      <td>103</td>\n",
       "      <td>《敦煌》</td>\n",
       "    </tr>\n",
       "    <tr>\n",
       "      <th>10</th>\n",
       "      <td>654</td>\n",
       "      <td>position</td>\n",
       "      <td>0</td>\n",
       "      <td>5</td>\n",
       "      <td>国家二级编剧</td>\n",
       "    </tr>\n",
       "  </tbody>\n",
       "</table>\n",
       "<p>20503 rows × 5 columns</p>\n",
       "</div>"
      ],
      "text/plain": [
       "      ID  Category  Pos_b  Pos_e  Privacy\n",
       "0   1257     movie      9     15  Believe\n",
       "1   1257     movie     17     23  Lucifer\n",
       "0    757   company     21     24     Nike\n",
       "1    757  position     29     30       教练\n",
       "2    757  position     91     92       教练\n",
       "..   ...       ...    ...    ...      ...\n",
       "6    654     movie     79     85  《风雨上海滩》\n",
       "7    654     movie     86     91   《一碗沧桑》\n",
       "8    654     movie     92     97   《沙海剑魂》\n",
       "9    654     movie    100    103     《敦煌》\n",
       "10   654  position      0      5   国家二级编剧\n",
       "\n",
       "[20503 rows x 5 columns]"
      ]
     },
     "execution_count": 6,
     "metadata": {},
     "output_type": "execute_result"
    }
   ],
   "source": [
    "df_train_label = get_label(train_data_label)\n",
    "df_train_label"
   ]
  },
  {
   "cell_type": "code",
   "execution_count": 28,
   "metadata": {},
   "outputs": [
    {
     "name": "stdout",
     "output_type": "stream",
     "text": [
      "{'company', 'address', 'game', 'position', 'organization', 'book', 'mobile', 'vx', 'government', 'scene', 'QQ', 'name', 'email', 'movie'}\n"
     ]
    }
   ],
   "source": [
    "print(set(df_train_label.Category))\n",
    "# print(set(df_train_label['Category']))"
   ]
  },
  {
   "cell_type": "code",
   "execution_count": 7,
   "metadata": {},
   "outputs": [
    {
     "data": {
      "text/html": [
       "<div>\n",
       "<style scoped>\n",
       "    .dataframe tbody tr th:only-of-type {\n",
       "        vertical-align: middle;\n",
       "    }\n",
       "\n",
       "    .dataframe tbody tr th {\n",
       "        vertical-align: top;\n",
       "    }\n",
       "\n",
       "    .dataframe thead th {\n",
       "        text-align: right;\n",
       "    }\n",
       "</style>\n",
       "<table border=\"1\" class=\"dataframe\">\n",
       "  <thead>\n",
       "    <tr style=\"text-align: right;\">\n",
       "      <th></th>\n",
       "      <th>Category</th>\n",
       "      <th>Privacy</th>\n",
       "    </tr>\n",
       "  </thead>\n",
       "  <tbody>\n",
       "    <tr>\n",
       "      <th>0</th>\n",
       "      <td>QQ</td>\n",
       "      <td>130238288 527622886 490401933 496049279 230871...</td>\n",
       "    </tr>\n",
       "    <tr>\n",
       "      <th>1</th>\n",
       "      <td>address</td>\n",
       "      <td>中国 中国 中国 中国 布鲁日 霍顿平原 兰卡 北京赛区 北京 好莱坞 购物中心 大工业区 ...</td>\n",
       "    </tr>\n",
       "    <tr>\n",
       "      <th>2</th>\n",
       "      <td>book</td>\n",
       "      <td>《commanderkeen》 《GameInformer》 《马克思佩恩3》 《别拿男人不...</td>\n",
       "    </tr>\n",
       "    <tr>\n",
       "      <th>3</th>\n",
       "      <td>company</td>\n",
       "      <td>Nike 美瑞克斯 TRXBOSU NIKE PowerMix core-max 北京香江国...</td>\n",
       "    </tr>\n",
       "    <tr>\n",
       "      <th>4</th>\n",
       "      <td>email</td>\n",
       "      <td>yuxuan1118@126.com hejingxinxiang@163.com info...</td>\n",
       "    </tr>\n",
       "    <tr>\n",
       "      <th>5</th>\n",
       "      <td>game</td>\n",
       "      <td>DOTA 《dirt2》 《极品飞车：变速》 王者荣耀 王者荣耀 王者荣耀 《潜龙谍影4》 ...</td>\n",
       "    </tr>\n",
       "    <tr>\n",
       "      <th>6</th>\n",
       "      <td>government</td>\n",
       "      <td>印度国防研究机构 印度国防研究与发展组织 银监会 保监会 海军 武汉市青山区房产管理局 央行...</td>\n",
       "    </tr>\n",
       "    <tr>\n",
       "      <th>7</th>\n",
       "      <td>mobile</td>\n",
       "      <td>18616873450 18621963983 400-692-0001 093390561...</td>\n",
       "    </tr>\n",
       "    <tr>\n",
       "      <th>8</th>\n",
       "      <td>movie</td>\n",
       "      <td>Believe Lucifer 《杀手没有假期》 《刺客信条2：世系》 《焦点导演：邱礼涛》...</td>\n",
       "    </tr>\n",
       "    <tr>\n",
       "      <th>9</th>\n",
       "      <td>name</td>\n",
       "      <td>张剑 陆慧明 carmack 罗钊明 angelina 李焯桃 李晨洋 maya Aiji ...</td>\n",
       "    </tr>\n",
       "    <tr>\n",
       "      <th>10</th>\n",
       "      <td>organization</td>\n",
       "      <td>沙尔克 拜仁 切尔西 紫百合 西南财经大学信托 理财研究所 拉齐奥 LM.C LM.C 拉齐...</td>\n",
       "    </tr>\n",
       "    <tr>\n",
       "      <th>11</th>\n",
       "      <td>position</td>\n",
       "      <td>教练 教练 培训师 课程顾问 培训导师 培训总监 总裁 律师 艺术总监 主唱 吉他手 总经理...</td>\n",
       "    </tr>\n",
       "    <tr>\n",
       "      <th>12</th>\n",
       "      <td>scene</td>\n",
       "      <td>鳄鱼岛 希利尔湖 洛切切群岛 伍迪岛 皇家园林 龙窑寨 太平湖 泸沽湖 洛克岛 中国馆 盖蒂...</td>\n",
       "    </tr>\n",
       "    <tr>\n",
       "      <th>13</th>\n",
       "      <td>vx</td>\n",
       "      <td>lily潘小芬 zhangzhizheng-zzz 57150788 57150788 li...</td>\n",
       "    </tr>\n",
       "  </tbody>\n",
       "</table>\n",
       "</div>"
      ],
      "text/plain": [
       "        Category                                            Privacy\n",
       "0             QQ  130238288 527622886 490401933 496049279 230871...\n",
       "1        address  中国 中国 中国 中国 布鲁日 霍顿平原 兰卡 北京赛区 北京 好莱坞 购物中心 大工业区 ...\n",
       "2           book  《commanderkeen》 《GameInformer》 《马克思佩恩3》 《别拿男人不...\n",
       "3        company  Nike 美瑞克斯 TRXBOSU NIKE PowerMix core-max 北京香江国...\n",
       "4          email  yuxuan1118@126.com hejingxinxiang@163.com info...\n",
       "5           game  DOTA 《dirt2》 《极品飞车：变速》 王者荣耀 王者荣耀 王者荣耀 《潜龙谍影4》 ...\n",
       "6     government  印度国防研究机构 印度国防研究与发展组织 银监会 保监会 海军 武汉市青山区房产管理局 央行...\n",
       "7         mobile  18616873450 18621963983 400-692-0001 093390561...\n",
       "8          movie  Believe Lucifer 《杀手没有假期》 《刺客信条2：世系》 《焦点导演：邱礼涛》...\n",
       "9           name  张剑 陆慧明 carmack 罗钊明 angelina 李焯桃 李晨洋 maya Aiji ...\n",
       "10  organization  沙尔克 拜仁 切尔西 紫百合 西南财经大学信托 理财研究所 拉齐奥 LM.C LM.C 拉齐...\n",
       "11      position  教练 教练 培训师 课程顾问 培训导师 培训总监 总裁 律师 艺术总监 主唱 吉他手 总经理...\n",
       "12         scene  鳄鱼岛 希利尔湖 洛切切群岛 伍迪岛 皇家园林 龙窑寨 太平湖 泸沽湖 洛克岛 中国馆 盖蒂...\n",
       "13            vx  lily潘小芬 zhangzhizheng-zzz 57150788 57150788 li..."
      ]
     },
     "execution_count": 7,
     "metadata": {},
     "output_type": "execute_result"
    }
   ],
   "source": [
    "# df_label_trian_category = df_train_label.groupby(['Category','Privacy']).agg(lambda x:' '.join([str(i) for i in list(x)]))\n",
    "# df_label_trian_category = df_train_label.groupby(['Category','Privacy']).agg(lambda x:' '.join([str(i) for i in list(x)])).reset_index()\n",
    "df_label_trian_category = df_train_label.groupby(['Category'])['Privacy'].agg(lambda x: ' '.join([str(i) for i in list(x)])).reset_index()\n",
    "df_label_trian_category"
   ]
  },
  {
   "cell_type": "code",
   "execution_count": 51,
   "metadata": {},
   "outputs": [],
   "source": [
    "# 'company', 'address', 'game', 'position', 'organization', 'book', 'mobile', 'vx', 'government', 'scene', 'QQ', 'name', 'email', 'movie'\n",
    "df_train_vx = df_train_label[df_train_label['Category']=='vx'][['Category','Privacy']]\n",
    "df_train_vx.to_csv('../data/regex/vx_train.csv',index=False)\n",
    "\n",
    "df_train_mobile = df_train_label[df_train_label['Category']=='mobile'][['Category','Privacy']]\n",
    "df_train_mobile.to_csv('../data/regex/mobile_train.csv',index=False)\n",
    "\n",
    "df_train_book = df_train_label[df_train_label['Category']=='book'][['Category','Privacy']]\n",
    "df_train_book.to_csv('../data/regex/book_train.csv',index=False)\n",
    "\n",
    "df_train_email = df_train_label[df_train_label['Category']=='email'][['Category','Privacy']]\n",
    "df_train_email.to_csv('../data/regex/email_train.csv',index=False)\n",
    "\n",
    "df_train_movie = df_train_label[df_train_label['Category']=='movie'][['Category','Privacy']]\n",
    "df_train_movie.to_csv('../data/regex/movie_train.csv',index=False)"
   ]
  },
  {
   "cell_type": "code",
   "execution_count": 57,
   "metadata": {},
   "outputs": [
    {
     "data": {
      "text/plain": [
       "'工作邮箱联系：33119699@qq.com我的淘宝店:http://baby-amelie.taobao.com/，内地组合至上励合成员刘洲成'"
      ]
     },
     "execution_count": 57,
     "metadata": {},
     "output_type": "execute_result"
    }
   ],
   "source": [
    "text = df_test[df_test['id']=='2984']['data'].values[0]\n",
    "text"
   ]
  },
  {
   "cell_type": "code",
   "execution_count": 115,
   "metadata": {
    "scrolled": false
   },
   "outputs": [
    {
     "name": "stdout",
     "output_type": "stream",
     "text": [
      "110\n",
      "['+886227627111', '347-738-8723', '+886）2-2752-1874', '+85294979172', '+886-936367799', '+886963110290', '+886223755010', '+86137-5787-9227', '00886928592269', '1861060699713940087450', '+88627627111', '+85266873859', '+85223352109', '+85266873859', '85172333-606', '886921024788', '8618611732247', '60122919901', '886-4-23029888', 'zzz813222', '+886-936-092-241', '+886-952-199-882', '1817534480', '+886287713553', '764957359', '0922-652-820', '0913-659-895', '+886913881777', '0978-022-680', '+886932147992', '+886910741038', '886-2-2738-7077', '0592-3931800', '84682361', '+8522335-2385', '+852-37411033', '+886928534302', '（852）23072034', '（852）66088899（86）13818199118', '886-4-23029888', '+60128816178', '010-6362212113910492247', '139-010-66161', '+86134-0106-3493', '+886920494700', '2335-2305/9263-3317', '+85223352109', '00852-69010858', '+85224372627', '+886-2-24255385', 'r886-2-25095720', '+852-98014313', '+85223352105', '057788285332', '772845851', '6821155', '2009', '886-2369-9886#585', '400-692-0001', '(02)2781-3888#51', '886921-379-135(', '0933905613', '02-25067711', '0916991114', '04-23109266', '0958208963', '+886)922231939', '886-989-264-950', '（+886）2-2752-1874', '+6568714242', '852)6466668', '86-150-1250-1083', '01065805888', '(886)2-27183108', '+886-2-28928639', '0085290544220', '+886927951202', '(852)61909075', '1827967769', '18086022688/13396088633', '25100123', '+886-2-66365725', '+85223352164', '00852-90544220', '+886-2-28318660e-', '+85223352118', '+88673802488', '+886227608890', '＋886227627111', '+886955002020', '13910405280董晨', '+886935516828', '＋60123774567', '0028862-2762-7111', 'y-23352132', '010-5762608757626088', '886-2-2753-1981', '0939858199', '（852）94896744', '（86）1380-2841-004', '+886926-004-045', '播886933711185', '69010858', '886926929796', '23352103', '0988006707', '886-924021021', '886-910000602', '+886975567203', '+886963333960']\n",
      "----------------------------------------------------------------------------------------------------\n",
      "167\n",
      "['13512794458', '13501379817', '18611925061', '13811952441', '139-1102-7909', '852-2335-2113', '13910735585', '13311311515', '+86-13636460588', '13910819844', '18953120001', 18618288171, '010﹣85570230', '13810963997', '13521243618', '13810849824', '18628169167', '15828284929', '15010836006', '852-39070486', '010-57612460', '13910975201', '13911829573', '13810168772', '18618289775', '13810091772', '15210169740', '010-58203428', '010-58696808', '18621805218', '13439591797', '13261538083', '852-23352105', '18911738839', '13732278181', '13661373557', '18675877722', '151-1005-0052', '18601160682', '13601336521', '18601126676', '13910008890', '18500057591', 13611185080, '18642834055', '13801097892', '010-62132837', '010-51626153', '13621072516', 15618300936, '15001131438', '13811096616', '15001267764', '13923180818', '18611797612', '18621805218', '010-58696808', '18611001981', '13801318005', '13910960648', '18600112400', '18601219959', '18857150858', '010-58697451', '13439992202', '13910239835', '13311361821', '18600190013', '18611124650', '18610298146', '18651870177', '13776659833', '15601089728', '13662102905', '18929341023', '13701233057', '138-1168-8572', '158-1121-2183', '13910663803', '137-0107-2631', '15801580925', '18611811168', '15901278078', '18611545632', '18601012468', '13907127072', '139-0101-7673', '18611683736', '15232185888', '15611245107', '010-56386038', '18901110907', '18613038899', '15220147111', '13811552015', '13601283569', '18611363682', '15013488725', '15920766912', '15811101287', '18618342854', '158-1014-6435', '15510384091', '13911369167', '138-0121-2506', '13910579477', '18621963983', '18210606685', '13810105207', '18610056224', '13923119898', '18611211355', '15821181236', '13810737919', '18669701489', '15816314444', '13810585448', '852-97392372', '15901492093', '13611356939', '18621915599', '13810105207', '13910220892', '13818958565', '13817519526', '18621199838', '13552380800', '18611146593', '18611999255', '18600608880', '13901236903', '13870962446', '18001206607', '13691110092', '13810319116', '13520605827', '18911175595', '18616873450', '852﹣23352164', '15998341111', '13701094423', '136-6137-3557', '15308876699', '13381002798', '13801281432', '18616873450', '139-1126-3572', '13198907077', '186-1179-4208', '18665092260', '13701063698', '852-23352385', '139-1126-3572', '13911960587', '18611006666', '18611801269', '+86-18601200718', '18611719384', '13911127613', '18977110565', '13911385512', '18801333086', '13501058727', '18610095883', '13311317888', '18611886534', '010-63012488']\n"
     ]
    }
   ],
   "source": [
    "# 使用正则表达式处理 vx,qq,mobile,email,如果使用正则，就没有训练的过程，直接从切割好的文件中找到模式即可，\n",
    "# test集合需要输出s_pos,e_pos，category，id ，entity等信息\n",
    "import copy\n",
    "# |(\\d{7,9}$)|(\\d{3}-\\d{4}-\\d{4})\n",
    "phone_regex = \\\n",
    "re.compile('(^1[3589][0-9]{9}$)|(^\\d{3}-\\d{4}-\\d{4}$)|(^\\d{3}[-﹣]\\d{8}$)|(^\\+\\d{2}-?\\d{11}$)')\n",
    "category_list = df_train_mobile['Privacy'].values\n",
    "category_ok_list = []\n",
    "category_list_copy = list(copy.deepcopy(category_list))\n",
    "for item in category_list:\n",
    "    result = phone_regex.findall(str(item))\n",
    "    if result != []:\n",
    "        category_ok_list.append(item)\n",
    "        category_list_copy.remove(item)\n",
    "print(len(category_list_copy))\n",
    "print(category_list_copy)\n",
    "print('--'*50)\n",
    "print(len(category_ok_list))\n",
    "print(category_ok_list)"
   ]
  },
  {
   "cell_type": "code",
   "execution_count": 119,
   "metadata": {},
   "outputs": [
    {
     "name": "stdout",
     "output_type": "stream",
     "text": [
      "11\n",
      "['高一桉gya2012vip@sina.com...', 'kenneth', 'www.celinajade.com', '金晶kinkiemail', 'yabinstudio@sina.com@music', \"'pamela@dreamstardom.com\", 'GaryCheung@', 'info@wowmusic.', 'winpy.lau@tvb.com.', 'www.starmusichk.com', 'jessicafplydia@yahoo.com.hk.']\n",
      "----------------------------------------------------------------------------------------------------\n",
      "248\n",
      "['jdfz520@yahoo.cn', 'wujing@missworld.cn', 'bcw.3people@gmail.com', 'desen66@126.com', 'aben@alegendstar.com', 'leevi0129@126.com', 'jeff.aam@gmail.com', 'arjay588@gmail.com', 'aben@alegendstar.com', 'derekgaga@gmail.com', 'sammy@catwalkagency.com', 'miki1234567@tom.com', 'toyiau@gpaa.com.hk', 'dvfuns@gmail.com', 'aimmo_pawan@hotmail.com', '1257677705@qq.com', 'linyuchun@eelin.com.tw', '79147402@qq.com', 'pccwman@hotmail.com', 'dreamux@yahoo.com.hk', 'rain_ho2656@yahoo.com.cn', 'Ld6919@126.com', 'aben@alegendstar.com', 'zhengluoqianwork@163.com', 'montager@foxmail.com', 'star2012@foxmail.com', 'nonamepunks@hotmail.com', 'wangwuli@vip.126.com', 'fanyuwei@hotmail.com', 'amy@hkfootage.com', 'chenleiguitar@vip.163.com', 'lolla3112@gmail.com', '发bjliuyh@126.com', 'liangshuang1122@126.com', 'jesseyyi@youhugmedia.com', 'cky1792@yahoo.com.hk', 'service@moontalk.com.tw', 'tvbbecky@gmail.com', 'hejingxinxiang@163.com', 'artiste.harmonic@gmail.com', 'jjay999@163.com', 'den02162000@chicgroup.com', 'anjon0731@sina.com', 'pengdanys@qq.com', 'yinentertainment@gmail.com', 'sanders.xu@hotmail.com', 'hai_nan2005@126.com', '657255312@qq.com', 'the80king@126.com', 'jamal_sun@msn.com', 'eyoung@eemedia.cn', 'honglin@eemedia.cn', 'houxian_work@thmusic.com.cn', 'daijun_studio@126.com', 'ting.jei@gmail.com', 'Lweiyt@163.com', 'danghongxiaozhu@yahoo.cn', 'hsmedia0211@hotmail.com', 'info@want-ent.com', 'dengluping@vip.sina.com', 'lingying@188.com', 'jo615tw@gmail.com', 'annnia@hotmail.com', 'phchen322@yahoo.com', 'xmbike@188.com', 'guanshaozeng007@163.com', 'gaotianliang0519@163.com', 'meo@ellen-chan.com', 'sexymeo@188.com', 'hejingxinxiang@163.com', 'jinguoshengshi@vip.sina.com', 'lianganan@gmail.com', 'vivian.live.love@163.com', 'lifeier_jing@163.com', 'info@wowmusic.hk', 'qianqian2378@163.com', 'solaaoi@sina.cn', '112378451@qq.com', 'candybar88@sina.com', 'eleelegroup@gmail.com', 'hsmedia0211@hotmail.com', 'chenniechang@gmail.com', 'info@nova-ent.com', 'Ivyivyliu56526@yahoo.com.tw', 'ivyliu1967@gmail.com', 'ben718@ymail.com', 'toast.stanley@gmail.com', '1468491333@QQ.COM', 'service@moontalk.com.tw', '609602937@qq.com', 'eddie@victoriahk.com', 'ricky@victoriahk.com', 'gcheung1973@yahoo.com', 'zoabout@gmail.com', 'ella.heung@tvb.com.hk', 'hejingxinxiang@163.com', 'abbyeung@gmail.com', '1213785766@qq.com', 'saent@netvigator.com', 'crazyautofans@gmail.com', 'xuanchuan_kayla@163.com', 'primetime@ptmedia.asia', 'zpspeh@hanmail.net', 'dmsgPtkfkd@hotmail.com', 'shinmusi@ms51.hinet.net', 'caoyangmodel@163.com', 'yaojiantbs@126.com', 'dobby0527@gmail.com', 'manager0211@sina.com', 'roro@showcitytimes.net', 'xinrong_li@vip.163.com', 'Anita.lto@gmail.com', 'hongju998@sina.com', '772845851@qq.com', 'oscarg@163.com', 'romance_h1982@hotmail.com', 'bella.anan@qq.com', 'coop@newbeat.com.cn', 'zhuzishan@live.cn', 'ycwwhy@sina.com', 'handongwork@163.com', 'Rockclubcrew@gmail.com', 'fanstang@fanstang.com', 'jjrjiangyue@qq.com', 'fanyuwei@hotmail.com', 'wuyuemail@126.com', 'angelinazhu@163.com', 'karizm@gmail.com', 'ellyliu@livemail.tw', 'bianjuyuxiaoqian@sina.cn', 'bianjuyuxiaoqian@vip.126.com', 'onymoore@summus-group.com', 'Sunsetpeakfilms@gmail.com', '37769693@qq.com', '840548484@QQ.com', 'viki077@hotmail.com', 'eyoung@eemedia.cn', 'honglin@eemedia.cn', 'lilypanstudio@126.com', 'alps123@hotmail.com', 'liuyichen@trmusic.com.cn', 'v2happyday@126.com', 'vangie.schedule@gmail.com', '13811552015@163.com', 'luckymonkeyband@gmail.com', 'kaymar1050@hotmail.com', 'songxiaobo@vip.126.com', 'info@freewayltd.com', 'jimmylin@jimmylin.a', 'milan001@qq.com', 'arjay588@gmail.com', 'LingFang.Leo@modeentertainment.com', 'he15012501083@gmail.com', 'jenomusic_studio@live.com', 'ryan@starlakeagency.com', 's.apple@163.com', 'boyzks@gmail.com', 'chrissyliu@mac.com', '569446936@qq.com', 'jeffreychen@vip.sina.com', 'damouthme@gmail.com', 'yuxuan1118@126.com', 'rickychiu2004@yahoo.com.hk', '88132575@qq.com', '2389924948@qq.com', 'a_chefamily@yahoo.com.tw', 'mailyaoavnu@gmail.com', 'jrfog@qq.com', 'zooparty720206@gmail.com', 'iseartist@gmail.com', 'kenjop@126.com', '1065808841@qq.com', 'info@kearenpang.com', 'yebeimusic@gmail.com', 'wjh1721@yahoo.com.tw', 'toyiau@gpaa.com.hk', 'tt@skykee.com', 'info@hyperbitch.com', 'emma.lee@thebrandcore.com', 'baotianmao@hotmail.com', 'hera_mm@qq.com', 'j.yu@giantrabbit.asia', 'ee-jingjibu@qq.com', 'cywh88888@vip.126.com', 'Calvin-c2009@hotmail.com', 'hsuben0624@gmail.com', 'kinglovewow@163.com', 'tvbcindyng@gmail.com', 'wingsaad@vip.188.com', '11studiotw@gmail.com', 'fanstang@fanstang.com', 'sunjia916@126.com', 'youngmai@yeah.net', 'hs@hongshui.com.cn', 'nancykou0522@yahoo.com.tw', 'manager@snh48.com', 'admin@yiseloo.com', 'zhiyun_03@yahoo.com', 'andychang@alegendstar.com', 'aben@alegendstar.com', 'juzi3068@hotmail.com', 'skinnylazybone@gmail.com', 'hai_nan2005@126.com', 'taddy@starmusichk.com', 'mko-7@163.com', 'huihui0201@126.com', 'awei@alegendstar.com', '57150788@qq.com', 'tompan@vip.126.com', 'roychowmusic@gmail.com', 'pancy8888@yahoo.com.hk', '34836378@qq.com', 'tom.pokface@yahoo.cn', 'fanstang@fanstang.com', 'suqing75@163.com', 'mh201221@gmail.com', 'mhmhmw@gmail.com', 'bill_yeung@uih.com.hk', 'djg999@126.com', 'littlet8516@hotmail.com', '419390096@qq.com', 'saent@netvigator.com', '986728805@qq.com', 'lindsey417@163.com', '13911181807@126.com', '13911263572@126.com', 'jangseohee@jangruicy.com', 'wudongfang@188.com', 'Keven@artwalker.org', 'juli@julitv.com', 'fudoushinn@hotmail.com', 'tinaluck21@gmail.com', 'zzvss@sina.com', 'work@anytimechina.com', '18618193311@163.com', 'haowenjing718@126.com', 'yidongpai@126.com', 'panpan3388@yahoo.com.hk', 'Szekikk@gmail.com', 'dearxg198236@163.com', 'caisewu@gmail.com', 'soulwayproductions@me.com', 'amyjuan.aj@gmail.com', 'zxl129@vip.sina.com', '350868843@qq.com', 'rickylin7028@gmail.com', 'emilykuo77@gmail.com', 'james.cheung@sonymusic.com']\n"
     ]
    }
   ],
   "source": [
    "phone_regex = \\\n",
    "re.compile('^[A-Za-z0-9\\u4e00-\\u9fa5\\._\\-]+@[a-zA-Z0-9_-]+(\\.[a-zA-Z0-9_-]+)+$')\n",
    "category_list = df_train_email['Privacy'].values\n",
    "category_ok_list = []\n",
    "category_list_copy = list(copy.deepcopy(category_list))\n",
    "for item in category_list:\n",
    "    result = phone_regex.findall(str(item))\n",
    "    if result != []:\n",
    "        category_ok_list.append(item)\n",
    "        category_list_copy.remove(item)\n",
    "print(len(category_list_copy))\n",
    "print(category_list_copy)\n",
    "print('--'*50)\n",
    "print(len(category_ok_list))\n",
    "print(category_ok_list)"
   ]
  },
  {
   "cell_type": "code",
   "execution_count": 121,
   "metadata": {},
   "outputs": [
    {
     "name": "stdout",
     "output_type": "stream",
     "text": [
      "5\n",
      "['lily潘小芬', '1827967769', '57150788', '57150788', '13426245800']\n",
      "----------------------------------------------------------------------------------------------------\n",
      "14\n",
      "['wwjshow', 'liushasha319439', 'montager', 'zhangzhizheng-zzz', 'rachel-213', 'sjyy98', 'zhuzhiyi91510', 'zhuzishanmisstin', 'tianlangyinyue', 'mengmeng6570', 'waveapp', 'songxiaobo', 'hongshui001', 'hongshui007']\n"
     ]
    }
   ],
   "source": [
    "phone_regex = \\\n",
    "re.compile('^[a-zA-Z][a-zA-Z\\d_-]{5,19}$')\n",
    "category_list = df_train_vx['Privacy'].values\n",
    "category_ok_list = []\n",
    "category_list_copy = list(copy.deepcopy(category_list))\n",
    "for item in category_list:\n",
    "    result = phone_regex.findall(str(item))\n",
    "    if result != []:\n",
    "        category_ok_list.append(item)\n",
    "        category_list_copy.remove(item)\n",
    "print(len(category_list_copy))\n",
    "print(category_list_copy)\n",
    "print('--'*50)\n",
    "print(len(category_ok_list))\n",
    "print(category_ok_list)"
   ]
  },
  {
   "cell_type": "markdown",
   "metadata": {},
   "source": [
    "## 使用crf-suite库来学习模型"
   ]
  },
  {
   "cell_type": "code",
   "execution_count": 8,
   "metadata": {},
   "outputs": [],
   "source": [
    "def get_list_data(data_path):\n",
    "    with open(data_path,'r',encoding='utf-8') as f:\n",
    "        line = ''.join(f.readlines())\n",
    "        list_data = list(line)\n",
    "    return list_data"
   ]
  },
  {
   "cell_type": "code",
   "execution_count": 9,
   "metadata": {},
   "outputs": [],
   "source": [
    "# 采用BIOES 标注体系\n",
    "def get_BIOES(list_data, df_label):\n",
    "    list_label = ['O'] * len(list_data)\n",
    "    for index,d in df_label.iterrows():\n",
    "        ID = d['ID']\n",
    "        Category = d['Category']\n",
    "        Pos_b = d['Pos_b']\n",
    "        Pos_e = d['Pos_e']\n",
    "        \n",
    "        # 异常数据处理\n",
    "        if 2162 == ID:\n",
    "            Category == '前明骏女孩组合队长\"'\n",
    "            Pos_e = Pos_e - 1\n",
    "\n",
    "        if Pos_b == Pos_e:\n",
    "            list_label[Pos_b] = 'S_' + Category\n",
    "        elif Pos_b - Pos_e == 1:\n",
    "            list_label[Pos_b] = 'B_' + Category\n",
    "            list_label[Pos_e] = 'E_' + Category\n",
    "        else:\n",
    "            # 异常数据处理\n",
    "            try:\n",
    "                list_label[Pos_b] = 'B_' + Category\n",
    "                list_label[Pos_e] = 'E_' + Category \n",
    "                for pos_i in range(Pos_b+1,Pos_e):\n",
    "                    list_label[pos_i] = 'I_' + Category \n",
    "            except:\n",
    "                print(ID)\n",
    "    return [(ID,data,label) for data,label in zip(list_data,list_label)]"
   ]
  },
  {
   "cell_type": "code",
   "execution_count": 10,
   "metadata": {},
   "outputs": [],
   "source": [
    "def get_data_label(path_dir_data,path_dir_label):\n",
    "    \n",
    "    # 训练数据集\n",
    "    list_BIOES = []\n",
    "    # 获取训练集 ID\n",
    "    list_data_ID = [file_name.split('.')[0] for file_name in os.listdir(path_dir_data) if '.txt' in file_name]\n",
    "    list_label_ID = [file_name.split('.')[0] for file_name in os.listdir(path_dir_label) if '.csv' in file_name]\n",
    "    \n",
    "    # 循环训练集 ID\n",
    "    for ID in tqdm(set(list_data_ID) & set(list_label_ID)):\n",
    "        # 获取词和标签地址\n",
    "        data_path = os.path.join(path_dir_data,ID+'.txt')\n",
    "        label_path = os.path.join(path_dir_label,ID+'.csv')\n",
    "        \n",
    "        # 获取词和标签数据\n",
    "        list_data = get_list_data(data_path)\n",
    "#         print('list_data:',list_data)\n",
    "        df_label = pd.read_csv(label_path)\n",
    "        \n",
    "        # BIOES 进行标注\n",
    "        BIOES = get_BIOES(list_data, df_label)\n",
    "        \n",
    "        # 加入训练数据集\n",
    "        list_BIOES += [BIOES]\n",
    "        \n",
    "    return list_BIOES"
   ]
  },
  {
   "cell_type": "code",
   "execution_count": 11,
   "metadata": {},
   "outputs": [
    {
     "name": "stderr",
     "output_type": "stream",
     "text": [
      "100%|██████████| 2515/2515 [00:10<00:00, 245.42it/s]\n"
     ]
    }
   ],
   "source": [
    "list_BIOES_train = get_data_label(train_data_path,train_data_label)"
   ]
  },
  {
   "cell_type": "code",
   "execution_count": 12,
   "metadata": {},
   "outputs": [],
   "source": [
    "def get_data(path_dir_data):\n",
    "    \n",
    "    # 测试数据集\n",
    "    list_BIOES = []\n",
    "    # 获取测试集 ID\n",
    "    list_data_ID = [file_name.split('.')[0] for file_name in os.listdir(path_dir_data) if '.txt' in file_name]\n",
    "   \n",
    "    # 循环测试集 ID\n",
    "    for ID in tqdm(set(list_data_ID)):\n",
    "        # 获取词\n",
    "        data_path = os.path.join(path_dir_data,ID+'.txt')\n",
    "        \n",
    "        # 获取词\n",
    "        list_data = get_list_data(data_path)\n",
    "        \n",
    "        # BIOES 进行标注\n",
    "        BIOES = [(ID,data,'N') for data in list_data]\n",
    "        \n",
    "        # 加入训练数据集\n",
    "        list_BIOES += [BIOES]\n",
    "        \n",
    "    return list_BIOES"
   ]
  },
  {
   "cell_type": "code",
   "execution_count": 13,
   "metadata": {},
   "outputs": [
    {
     "name": "stderr",
     "output_type": "stream",
     "text": [
      "100%|██████████| 3956/3956 [00:00<00:00, 5870.80it/s]\n"
     ]
    }
   ],
   "source": [
    "list_BIOES_test = get_data(test_data_path)"
   ]
  },
  {
   "cell_type": "code",
   "execution_count": 14,
   "metadata": {},
   "outputs": [],
   "source": [
    "train_data_01, val_data_01 = list_BIOES_train[:int(0.8 * len(list_BIOES_train))], list_BIOES_train[int(0.8 * len(list_BIOES_train)):]"
   ]
  },
  {
   "cell_type": "code",
   "execution_count": 15,
   "metadata": {},
   "outputs": [],
   "source": [
    "import nltk\n",
    "import sklearn \n",
    "import sklearn_crfsuite\n",
    "from sklearn_crfsuite import scorers,metrics"
   ]
  },
  {
   "cell_type": "code",
   "execution_count": 16,
   "metadata": {},
   "outputs": [],
   "source": [
    "def word2features(sent, i):\n",
    "    word = sent[i][1]\n",
    "    \n",
    "    features = {\n",
    "        'bias': 1.0,\n",
    "        'word': word\n",
    "    }\n",
    "    \n",
    "    if i > 0:\n",
    "        word = sent[i-1][1]\n",
    "        features.update({\n",
    "            '-1:word': word\n",
    "        })\n",
    "    else:\n",
    "        features['BOS'] = True\n",
    "\n",
    "    if i > 1:\n",
    "        word = sent[i-2][1]\n",
    "        features.update({\n",
    "            '-2:word': word\n",
    "        })\n",
    "    else:\n",
    "        features['BOS'] = True        \n",
    "        \n",
    "        \n",
    "    if i < len(sent)-1:\n",
    "        word = sent[i+1][1]\n",
    "        features.update({\n",
    "            '+1:word': word\n",
    "        })\n",
    "    else:\n",
    "        features['EOS'] = True\n",
    "\n",
    "    if i < len(sent)-2:\n",
    "        word = sent[i+2][1]\n",
    "        features.update({\n",
    "            '+2:word': word\n",
    "        })\n",
    "    else:\n",
    "        features['EOS'] = True\n",
    "        \n",
    "    return features"
   ]
  },
  {
   "cell_type": "code",
   "execution_count": 17,
   "metadata": {},
   "outputs": [],
   "source": [
    "def sent2features(sent):\n",
    "    return [word2features(sent, i) for i in range(len(sent))]\n",
    "\n",
    "def sent2labels(sent):\n",
    "    return [label for ID, token, label in sent]\n",
    "\n",
    "def sent2tokens(sent):\n",
    "    return [token for ID, token, label in sent]"
   ]
  },
  {
   "cell_type": "code",
   "execution_count": 18,
   "metadata": {},
   "outputs": [
    {
     "name": "stdout",
     "output_type": "stream",
     "text": [
      "Wall time: 755 ms\n"
     ]
    }
   ],
   "source": [
    "%%time\n",
    "X_train = [sent2features(s) for s in train_data_01]\n",
    "y_train = [sent2labels(s) for s in train_data_01]\n",
    "\n",
    "X_val = [sent2features(s) for s in val_data_01]\n",
    "y_val = [sent2labels(s) for s in val_data_01]"
   ]
  },
  {
   "cell_type": "code",
   "execution_count": 19,
   "metadata": {},
   "outputs": [],
   "source": [
    "from itertools import chain\n",
    "import sklearn\n",
    "import scipy.stats\n",
    "from sklearn.metrics import make_scorer\n",
    "from sklearn.model_selection import cross_val_score\n",
    "from sklearn.model_selection import RandomizedSearchCV"
   ]
  },
  {
   "cell_type": "code",
   "execution_count": 20,
   "metadata": {},
   "outputs": [
    {
     "name": "stdout",
     "output_type": "stream",
     "text": [
      "Wall time: 6min\n"
     ]
    }
   ],
   "source": [
    "%%time\n",
    "crf = sklearn_crfsuite.CRF(\n",
    "    algorithm='lbfgs',\n",
    "    c1=0.1,\n",
    "    c2=0.1,\n",
    "    max_iterations=200,\n",
    "    all_possible_transitions=True\n",
    ")\n",
    "crf.fit(X_train, y_train)\n",
    "labels = list(crf.classes_)\n",
    "labels.remove('O')\n",
    "labels"
   ]
  },
  {
   "cell_type": "code",
   "execution_count": 21,
   "metadata": {},
   "outputs": [
    {
     "name": "stderr",
     "output_type": "stream",
     "text": [
      "D:\\WinAPP\\dev_app\\anaconda\\envs\\ner\\lib\\site-packages\\sklearn\\utils\\validation.py:70: FutureWarning: Pass labels=['B_QQ', 'E_QQ', 'I_QQ', 'B_address', 'E_address', 'I_address', 'B_book', 'E_book', 'I_book', 'B_company', 'E_company', 'I_company', 'S_company', 'B_email', 'E_email', 'I_email', 'B_game', 'E_game', 'I_game', 'B_government', 'E_government', 'I_government', 'B_mobile', 'E_mobile', 'I_mobile', 'B_movie', 'E_movie', 'I_movie', 'S_movie', 'B_name', 'E_name', 'I_name', 'S_name', 'B_organization', 'E_organization', 'I_organization', 'B_position', 'E_position', 'I_position', 'B_scene', 'E_scene', 'I_scene', 'B_vx', 'E_vx', 'I_vx'] as keyword args. From version 0.25 passing these as positional arguments will result in an error\n",
      "  FutureWarning)\n",
      "D:\\WinAPP\\dev_app\\anaconda\\envs\\ner\\lib\\site-packages\\sklearn\\metrics\\_classification.py:1221: UndefinedMetricWarning: Precision and F-score are ill-defined and being set to 0.0 in labels with no predicted samples. Use `zero_division` parameter to control this behavior.\n",
      "  _warn_prf(average, modifier, msg_start, len(result))\n",
      "D:\\WinAPP\\dev_app\\anaconda\\envs\\ner\\lib\\site-packages\\sklearn\\metrics\\_classification.py:1221: UndefinedMetricWarning: Recall and F-score are ill-defined and being set to 0.0 in labels with no true samples. Use `zero_division` parameter to control this behavior.\n",
      "  _warn_prf(average, modifier, msg_start, len(result))\n"
     ]
    },
    {
     "name": "stdout",
     "output_type": "stream",
     "text": [
      "                precision    recall  f1-score   support\n",
      "\n",
      "          B_QQ      0.000     0.000     0.000         4\n",
      "          E_QQ      0.000     0.000     0.000         4\n",
      "          I_QQ      0.000     0.000     0.000        28\n",
      "     B_address      0.599     0.489     0.538       372\n",
      "     E_address      0.523     0.427     0.470       372\n",
      "     I_address      0.662     0.582     0.619      1005\n",
      "        B_book      0.700     0.522     0.598       134\n",
      "        E_book      0.687     0.507     0.584       134\n",
      "        I_book      0.701     0.571     0.629       583\n",
      "     B_company      0.694     0.596     0.641       396\n",
      "     E_company      0.685     0.585     0.631       398\n",
      "     I_company      0.680     0.643     0.661      1134\n",
      "     S_company      1.000     1.000     1.000         4\n",
      "       B_email      0.915     0.782     0.843        55\n",
      "       E_email      0.896     0.782     0.835        55\n",
      "       I_email      0.969     0.946     0.958       970\n",
      "        B_game      0.816     0.739     0.776       283\n",
      "        E_game      0.797     0.721     0.757       283\n",
      "        I_game      0.813     0.705     0.756      1093\n",
      "  B_government      0.751     0.702     0.726       215\n",
      "  E_government      0.736     0.688     0.712       215\n",
      "  I_government      0.668     0.624     0.645       713\n",
      "      B_mobile      0.837     0.857     0.847        42\n",
      "      E_mobile      0.878     0.857     0.867        42\n",
      "      I_mobile      0.913     0.951     0.932       432\n",
      "       B_movie      0.703     0.632     0.666       326\n",
      "       E_movie      0.702     0.629     0.663       326\n",
      "       I_movie      0.698     0.670     0.683      1395\n",
      "       S_movie      0.000     0.000     0.000         0\n",
      "        B_name      0.778     0.606     0.681       675\n",
      "        E_name      0.738     0.575     0.646       675\n",
      "        I_name      0.672     0.573     0.619       865\n",
      "        S_name      0.000     0.000     0.000         0\n",
      "B_organization      0.777     0.674     0.722       445\n",
      "E_organization      0.718     0.622     0.667       445\n",
      "I_organization      0.590     0.515     0.550       988\n",
      "    B_position      0.714     0.594     0.648       684\n",
      "    E_position      0.844     0.699     0.765       688\n",
      "    I_position      0.636     0.485     0.550      1150\n",
      "       B_scene      0.646     0.412     0.503       177\n",
      "       E_scene      0.690     0.441     0.538       177\n",
      "       I_scene      0.584     0.477     0.525       373\n",
      "          B_vx      0.000     0.000     0.000         2\n",
      "          E_vx      0.000     0.000     0.000         2\n",
      "          I_vx      0.000     0.000     0.000        18\n",
      "\n",
      "     micro avg      0.723     0.626     0.671     18377\n",
      "     macro avg      0.609     0.531     0.566     18377\n",
      "  weighted avg      0.717     0.626     0.668     18377\n",
      "\n"
     ]
    }
   ],
   "source": [
    "y_pred = crf.predict(X_val)\n",
    "sorted_labels = sorted(\n",
    "    labels,\n",
    "    key=lambda name: (name[1:], name[0])\n",
    ")\n",
    "\n",
    "print(metrics.flat_classification_report(\n",
    "    y_val, y_pred, labels=sorted_labels, digits=3\n",
    "))"
   ]
  },
  {
   "cell_type": "markdown",
   "metadata": {},
   "source": [
    "### 使用grid search 和 cv来提高模型表现"
   ]
  },
  {
   "cell_type": "code",
   "execution_count": 150,
   "metadata": {},
   "outputs": [
    {
     "name": "stderr",
     "output_type": "stream",
     "text": [
      "D:\\WinAPP\\dev_app\\anaconda\\envs\\ner\\lib\\site-packages\\sklearn\\base.py:213: FutureWarning: From version 0.24, get_params will raise an AttributeError if a parameter cannot be retrieved as an instance attribute. Previously it would return None.\n",
      "  FutureWarning)\n",
      "[Parallel(n_jobs=-1)]: Using backend LokyBackend with 4 concurrent workers.\n"
     ]
    },
    {
     "name": "stdout",
     "output_type": "stream",
     "text": [
      "Fitting 3 folds for each of 50 candidates, totalling 150 fits\n"
     ]
    },
    {
     "name": "stderr",
     "output_type": "stream",
     "text": [
      "[Parallel(n_jobs=-1)]: Done  42 tasks      | elapsed: 29.5min\n",
      "[Parallel(n_jobs=-1)]: Done 150 out of 150 | elapsed: 102.4min finished\n"
     ]
    },
    {
     "name": "stdout",
     "output_type": "stream",
     "text": [
      "Wall time: 1h 45min 24s\n"
     ]
    }
   ],
   "source": [
    "%%time\n",
    "# define fixed parameters and parameters to search\n",
    "crf = sklearn_crfsuite.CRF(\n",
    "    algorithm='lbfgs',\n",
    "    max_iterations=100,\n",
    "    all_possible_transitions=True\n",
    ")\n",
    "params_space = {\n",
    "    'c1': scipy.stats.expon(scale=0.5),\n",
    "    'c2': scipy.stats.expon(scale=0.05),\n",
    "}\n",
    "\n",
    "# use the same metric for evaluation\n",
    "f1_scorer = make_scorer(metrics.flat_f1_score,\n",
    "                        average='weighted', labels=labels)\n",
    "\n",
    "# search\n",
    "rs = RandomizedSearchCV(crf, params_space,\n",
    "                        cv=3,\n",
    "                        verbose=1,\n",
    "                        n_jobs=-1,\n",
    "                        n_iter=50,\n",
    "                        scoring=f1_scorer)\n",
    "rs.fit(X_train, y_train)"
   ]
  },
  {
   "cell_type": "code",
   "execution_count": 151,
   "metadata": {},
   "outputs": [
    {
     "name": "stdout",
     "output_type": "stream",
     "text": [
      "best params: {'c1': 0.23180081778963083, 'c2': 0.14637816579797572}\n",
      "best CV score: 0.6564354114392703\n",
      "model size: 2.13M\n"
     ]
    }
   ],
   "source": [
    "# crf = rs.best_estimator_\n",
    "# best params: {'c1': 0.23180081778963083, 'c2': 0.14637816579797572}\n",
    "# best CV score: 0.6564354114392703\n",
    "# model size: 2.13M\n",
    "    \n",
    "print('best params:', rs.best_params_)\n",
    "print('best CV score:', rs.best_score_)\n",
    "print('model size: {:0.2f}M'.format(rs.best_estimator_.size_ / 1000000))"
   ]
  },
  {
   "cell_type": "code",
   "execution_count": 161,
   "metadata": {},
   "outputs": [
    {
     "name": "stdout",
     "output_type": "stream",
     "text": [
      "C:\\Users\\wvbx\\AppData\\Local\\Temp\\modeletbar7dg.crfsuite\n"
     ]
    },
    {
     "ename": "TypeError",
     "evalue": "file must have a 'write' attribute",
     "output_type": "error",
     "traceback": [
      "\u001b[1;31m---------------------------------------------------------------------------\u001b[0m",
      "\u001b[1;31mTypeError\u001b[0m                                 Traceback (most recent call last)",
      "\u001b[1;32m<ipython-input-161-383713f009df>\u001b[0m in \u001b[0;36m<module>\u001b[1;34m()\u001b[0m\n\u001b[0;32m      1\u001b[0m \u001b[1;32mimport\u001b[0m \u001b[0mpickle\u001b[0m\u001b[1;33m\u001b[0m\u001b[1;33m\u001b[0m\u001b[0m\n\u001b[0;32m      2\u001b[0m \u001b[0mprint\u001b[0m\u001b[1;33m(\u001b[0m\u001b[0mcrf\u001b[0m\u001b[1;33m.\u001b[0m\u001b[0mmodelfile\u001b[0m\u001b[1;33m.\u001b[0m\u001b[0mname\u001b[0m\u001b[1;33m)\u001b[0m\u001b[1;33m\u001b[0m\u001b[1;33m\u001b[0m\u001b[0m\n\u001b[1;32m----> 3\u001b[1;33m \u001b[0mpickle\u001b[0m\u001b[1;33m.\u001b[0m\u001b[0mdump\u001b[0m\u001b[1;33m(\u001b[0m\u001b[0mcrf\u001b[0m\u001b[1;33m.\u001b[0m\u001b[0mmodelfile\u001b[0m \u001b[1;33m,\u001b[0m \u001b[1;34m\"train_model.m\"\u001b[0m\u001b[1;33m)\u001b[0m\u001b[1;33m\u001b[0m\u001b[1;33m\u001b[0m\u001b[0m\n\u001b[0m",
      "\u001b[1;31mTypeError\u001b[0m: file must have a 'write' attribute"
     ]
    }
   ],
   "source": [
    "import pickle\n",
    "print(crf.modelfile.name)\n",
    "pickle.dump(crf.modelfile , \"train_model.m\")"
   ]
  },
  {
   "cell_type": "code",
   "execution_count": 155,
   "metadata": {},
   "outputs": [
    {
     "name": "stderr",
     "output_type": "stream",
     "text": [
      "D:\\WinAPP\\dev_app\\anaconda\\envs\\ner\\lib\\site-packages\\sklearn\\utils\\validation.py:70: FutureWarning: Pass labels=['B_QQ', 'E_QQ', 'I_QQ', 'B_address', 'E_address', 'I_address', 'S_address', 'B_book', 'E_book', 'I_book', 'B_company', 'E_company', 'I_company', 'S_company', 'B_email', 'E_email', 'I_email', 'B_game', 'E_game', 'I_game', 'B_government', 'E_government', 'I_government', 'B_mobile', 'E_mobile', 'I_mobile', 'B_movie', 'E_movie', 'I_movie', 'S_movie', 'B_name', 'E_name', 'I_name', 'S_name', 'B_organization', 'E_organization', 'I_organization', 'B_position', 'E_position', 'I_position', 'B_scene', 'E_scene', 'I_scene', 'B_vx', 'E_vx', 'I_vx'] as keyword args. From version 0.25 passing these as positional arguments will result in an error\n",
      "  FutureWarning)\n",
      "D:\\WinAPP\\dev_app\\anaconda\\envs\\ner\\lib\\site-packages\\sklearn\\metrics\\_classification.py:1221: UndefinedMetricWarning: Precision and F-score are ill-defined and being set to 0.0 in labels with no predicted samples. Use `zero_division` parameter to control this behavior.\n",
      "  _warn_prf(average, modifier, msg_start, len(result))\n",
      "D:\\WinAPP\\dev_app\\anaconda\\envs\\ner\\lib\\site-packages\\sklearn\\metrics\\_classification.py:1221: UndefinedMetricWarning: Recall and F-score are ill-defined and being set to 0.0 in labels with no true samples. Use `zero_division` parameter to control this behavior.\n",
      "  _warn_prf(average, modifier, msg_start, len(result))\n"
     ]
    },
    {
     "name": "stdout",
     "output_type": "stream",
     "text": [
      "                precision    recall  f1-score   support\n",
      "\n",
      "          B_QQ      1.000     0.286     0.444         7\n",
      "          E_QQ      0.500     0.143     0.222         7\n",
      "          I_QQ      1.000     0.240     0.387        50\n",
      "     B_address      0.614     0.476     0.536       435\n",
      "     E_address      0.543     0.421     0.474       435\n",
      "     I_address      0.612     0.539     0.574      1166\n",
      "     S_address      0.000     0.000     0.000         0\n",
      "        B_book      0.667     0.565     0.611       124\n",
      "        E_book      0.648     0.548     0.594       124\n",
      "        I_book      0.691     0.514     0.590       622\n",
      "     B_company      0.742     0.614     0.672       430\n",
      "     E_company      0.733     0.607     0.664       430\n",
      "     I_company      0.697     0.683     0.690      1307\n",
      "     S_company      1.000     0.800     0.889         5\n",
      "       B_email      0.745     0.667     0.704        57\n",
      "       E_email      0.942     0.845     0.891        58\n",
      "       I_email      0.945     0.950     0.948      1001\n",
      "        B_game      0.841     0.771     0.804       301\n",
      "        E_game      0.819     0.751     0.783       301\n",
      "        I_game      0.800     0.701     0.748      1075\n",
      "  B_government      0.776     0.675     0.722       231\n",
      "  E_government      0.746     0.649     0.694       231\n",
      "  I_government      0.687     0.636     0.660       667\n",
      "      B_mobile      0.860     0.811     0.835        53\n",
      "      E_mobile      0.796     0.736     0.765        53\n",
      "      I_mobile      0.878     0.875     0.877       528\n",
      "       B_movie      0.674     0.557     0.610       323\n",
      "       E_movie      0.673     0.554     0.608       323\n",
      "       I_movie      0.676     0.559     0.612      1475\n",
      "       S_movie      0.000     0.000     0.000         1\n",
      "        B_name      0.781     0.616     0.689       690\n",
      "        E_name      0.753     0.593     0.663       690\n",
      "        I_name      0.737     0.538     0.622      1026\n",
      "        S_name      0.000     0.000     0.000         1\n",
      "B_organization      0.777     0.625     0.693       485\n",
      "E_organization      0.733     0.590     0.654       485\n",
      "I_organization      0.583     0.518     0.549       932\n",
      "    B_position      0.679     0.612     0.644       654\n",
      "    E_position      0.822     0.738     0.778       656\n",
      "    I_position      0.550     0.569     0.559      1058\n",
      "       B_scene      0.637     0.500     0.560       200\n",
      "       E_scene      0.652     0.515     0.575       200\n",
      "       I_scene      0.632     0.493     0.554       515\n",
      "          B_vx      0.000     0.000     0.000         5\n",
      "          E_vx      0.000     0.000     0.000         5\n",
      "          I_vx      0.000     0.000     0.000        39\n",
      "\n",
      "     micro avg      0.715     0.618     0.663     19461\n",
      "     macro avg      0.644     0.523     0.568     19461\n",
      "  weighted avg      0.712     0.618     0.659     19461\n",
      "\n"
     ]
    }
   ],
   "source": [
    "crf = rs.best_estimator_\n",
    "y_pred = crf.predict(X_val)\n",
    "sorted_labels = sorted(\n",
    "    labels,\n",
    "    key=lambda name: (name[1:], name[0])\n",
    ")\n",
    "\n",
    "print(metrics.flat_classification_report(\n",
    "    y_val, y_pred, labels=sorted_labels, digits=3\n",
    "))"
   ]
  },
  {
   "cell_type": "code",
   "execution_count": null,
   "metadata": {},
   "outputs": [],
   "source": []
  }
 ],
 "metadata": {
  "kernelspec": {
   "display_name": "ner",
   "language": "python",
   "name": "ner"
  },
  "language_info": {
   "codemirror_mode": {
    "name": "ipython",
    "version": 3
   },
   "file_extension": ".py",
   "mimetype": "text/x-python",
   "name": "python",
   "nbconvert_exporter": "python",
   "pygments_lexer": "ipython3",
   "version": "3.6.11"
  }
 },
 "nbformat": 4,
 "nbformat_minor": 4
}
