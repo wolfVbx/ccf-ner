{
 "cells": [
  {
   "cell_type": "markdown",
   "metadata": {},
   "source": [
    "## 对模型的结果做融合"
   ]
  },
  {
   "cell_type": "code",
   "execution_count": 6,
   "metadata": {},
   "outputs": [],
   "source": [
    "def read_txt(filename, use_line=True):\n",
    "    \"\"\"\n",
    "    读取 txt 数据\n",
    "    filename : str\n",
    "    use_line : bool\n",
    "    return   : list\n",
    "    \"\"\"\n",
    "    with open(filename, 'r', encoding='utf8') as f:\n",
    "        if use_line:\n",
    "            ret = f.readlines()\n",
    "        else:\n",
    "            ret = f.read()\n",
    "    return ret\n",
    "\n",
    "def checkout(filename):\n",
    "    \"\"\"\n",
    "    检查提交数据\n",
    "    filename : str\n",
    "    \"\"\"\n",
    "    all_lines = read_txt(filename)\n",
    "    for line in all_lines:\n",
    "        if not line.split('\\n')[-1] == '':\n",
    "            print(line)\n",
    "\n",
    "        else:\n",
    "            if len((line.split('\\n')[0]).split(',')) != 5:\n",
    "                print(line)"
   ]
  },
  {
   "cell_type": "code",
   "execution_count": 7,
   "metadata": {},
   "outputs": [],
   "source": [
    "import codecs\n",
    "from collections import Counter\n",
    "\n",
    "def load_all_res(file_list):\n",
    "    res_f = []\n",
    "    for file in file_list:\n",
    "        with codecs.open(file, 'r', 'utf-8') as f:\n",
    "            lines = f.readlines()[1:]\n",
    "            for l in lines:\n",
    "                l = l.strip()\n",
    "                res_f.append(l)\n",
    "    c = Counter(res_f)\n",
    "    with codecs.open('../submit/emsebled_res.txt', 'a', 'utf-8') as out_f:\n",
    "        out_f.write('ID,Category,Pos_b,Pos_e,Privacy\\n')\n",
    "        for i in c.most_common():\n",
    "            if i[-1] >= 2:\n",
    "                out_f.write(i[0]+'\\n')"
   ]
  },
  {
   "cell_type": "code",
   "execution_count": 8,
   "metadata": {},
   "outputs": [
    {
     "name": "stdout",
     "output_type": "stream",
     "text": [
      "../ensemble\\predict20201124_BIOES.csv\n",
      "../ensemble\\predict20201201_BIOES.csv\n",
      "../ensemble\\predict20201202_BIOES.csv\n",
      "../ensemble\\predict20201204_BIOES_aug.csv\n",
      "../ensemble\\predict20201204_bio_aug.csv\n"
     ]
    }
   ],
   "source": [
    "from glob import glob\n",
    "data_lst = glob('../ensemble/*.csv')               \n",
    "                \n",
    "for f in data_lst:\n",
    "    print(f)\n",
    "    checkout(f)\n",
    "    \n",
    "res = load_all_res(data_lst)"
   ]
  },
  {
   "cell_type": "code",
   "execution_count": 19,
   "metadata": {},
   "outputs": [
    {
     "name": "stdout",
     "output_type": "stream",
     "text": [
      "         ID Category  Pos_b  Pos_e      Privacy\n",
      "115    1022       QQ     22     31   2206412941\n",
      "127    1026       QQ     57     64     73270228\n",
      "346    1061       QQ     65     74   1085847619\n",
      "499    1100       QQ     19     27    116463151\n",
      "825    1155       QQ     10     18    362505852\n",
      "...     ...      ...    ...    ...          ...\n",
      "28002  3228       QQ     79     88   2048598383\n",
      "28037  3473       QQ     60     69   q289764481\n",
      "28062  3731       QQ     40     48    133453884\n",
      "28116   717       QQ     40     50  15000411588\n",
      "28127   788       QQ     38     47   4000292269\n",
      "\n",
      "[165 rows x 5 columns]\n"
     ]
    }
   ],
   "source": [
    "# 对模型做后处理\n",
    "import pandas as pd\n",
    "ensembled_file = '../submit/ensembled_res.txt'\n",
    "# result = read_txt(ensembled_file)\n",
    "pd_result = pd.read_table(ensembled_file,sep=',')\n",
    "pd_qq=pd_result[pd_result['Category']=='QQ'] #.apply(lambda x:)\n",
    "print(pd_qq)"
   ]
  },
  {
   "cell_type": "code",
   "execution_count": 17,
   "metadata": {},
   "outputs": [],
   "source": []
  },
  {
   "cell_type": "code",
   "execution_count": null,
   "metadata": {},
   "outputs": [],
   "source": []
  },
  {
   "cell_type": "code",
   "execution_count": null,
   "metadata": {},
   "outputs": [],
   "source": []
  }
 ],
 "metadata": {
  "kernelspec": {
   "display_name": "Python 3",
   "language": "python",
   "name": "python3"
  },
  "language_info": {
   "codemirror_mode": {
    "name": "ipython",
    "version": 3
   },
   "file_extension": ".py",
   "mimetype": "text/x-python",
   "name": "python",
   "nbconvert_exporter": "python",
   "pygments_lexer": "ipython3",
   "version": "3.8.3"
  }
 },
 "nbformat": 4,
 "nbformat_minor": 4
}
