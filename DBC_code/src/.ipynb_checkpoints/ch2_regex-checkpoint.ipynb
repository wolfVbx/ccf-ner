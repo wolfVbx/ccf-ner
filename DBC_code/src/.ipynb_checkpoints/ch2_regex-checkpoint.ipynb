{
 "cells": [
  {
   "cell_type": "markdown",
   "metadata": {},
   "source": [
    "## 使用传统方法做特征\n",
    "- 正则\n",
    "- crf++\n",
    "#### 要想使用正则表达式，就必须先把各个类别的数据分类聚合起来，即看看每个类别的数据有什么特点，然后在看如何使用正则表达式"
   ]
  },
  {
   "cell_type": "code",
   "execution_count": 4,
   "metadata": {},
   "outputs": [],
   "source": [
    "import pandas as pd\n",
    "import numpy as np\n",
    "import re\n",
    "import os\n",
    "from tqdm import tqdm"
   ]
  },
  {
   "cell_type": "code",
   "execution_count": 20,
   "metadata": {},
   "outputs": [],
   "source": [
    "train_data_path = '../data/train_data/'\n",
    "train_data_label = '../data/train_label/'\n",
    "test_data_path = '../data/test_data/'"
   ]
  },
  {
   "cell_type": "code",
   "execution_count": 21,
   "metadata": {},
   "outputs": [],
   "source": [
    "def get_dataframe(data_path_dir):\n",
    "    id_list = []\n",
    "    data_list = []\n",
    "    data_id_list = [file.split('.')[0] for file in os.listdir(data_path_dir) if '.txt' in file]\n",
    "    for ID in tqdm(set(data_id_list)):\n",
    "        data_path = os.path.join(data_path_dir,ID+'.txt')\n",
    "        with open(data_path,'r',encoding='utf-8') as f:\n",
    "            line = ''.join(f.readlines())\n",
    "        id_list.append(ID)\n",
    "        data_list.append(line)\n",
    "    df_data = pd.DataFrame()\n",
    "    df_data['id']=id_list\n",
    "    df_data['data']=data_list\n",
    "    return df_data"
   ]
  },
  {
   "cell_type": "code",
   "execution_count": 22,
   "metadata": {},
   "outputs": [
    {
     "name": "stderr",
     "output_type": "stream",
     "text": [
      "100%|██████████| 2515/2515 [00:00<00:00, 7502.66it/s]\n",
      "100%|██████████| 3956/3956 [00:32<00:00, 123.56it/s]\n"
     ]
    }
   ],
   "source": [
    "df_train = get_dataframe(train_data_path)\n",
    "df_test = get_dataframe(test_data_path)"
   ]
  },
  {
   "cell_type": "code",
   "execution_count": 23,
   "metadata": {},
   "outputs": [
    {
     "data": {
      "text/html": [
       "<div>\n",
       "<style scoped>\n",
       "    .dataframe tbody tr th:only-of-type {\n",
       "        vertical-align: middle;\n",
       "    }\n",
       "\n",
       "    .dataframe tbody tr th {\n",
       "        vertical-align: top;\n",
       "    }\n",
       "\n",
       "    .dataframe thead th {\n",
       "        text-align: right;\n",
       "    }\n",
       "</style>\n",
       "<table border=\"1\" class=\"dataframe\">\n",
       "  <thead>\n",
       "    <tr style=\"text-align: right;\">\n",
       "      <th></th>\n",
       "      <th>id</th>\n",
       "      <th>data</th>\n",
       "    </tr>\n",
       "  </thead>\n",
       "  <tbody>\n",
       "    <tr>\n",
       "      <th>0</th>\n",
       "      <td>2844</td>\n",
       "      <td>80后小警微博，今学习工作在网络，期待与您共同关注互联网、关注我们身边的互联网安全。微博纯属...</td>\n",
       "    </tr>\n",
       "    <tr>\n",
       "      <th>1</th>\n",
       "      <td>1316</td>\n",
       "      <td>華納歌手2012年最新派台歌&lt;到此為止&gt;&lt;好好過&gt;／2011年電影&lt;喜愛夜蒲&gt;女主角／希望大...</td>\n",
       "    </tr>\n",
       "    <tr>\n",
       "      <th>2</th>\n",
       "      <td>2879</td>\n",
       "      <td>已出版《蝎子的猎物》《可惜我是水瓶座》《天使的嫁纱》；2009年于台湾出版个人星座系列小说：...</td>\n",
       "    </tr>\n",
       "    <tr>\n",
       "      <th>3</th>\n",
       "      <td>898</td>\n",
       "      <td>以一种勇敢无畏的精神，兢兢业业的作风，昂扬的斗志积极践行着“奉献、有爱、互助、进步”的志愿精...</td>\n",
       "    </tr>\n",
       "    <tr>\n",
       "      <th>4</th>\n",
       "      <td>2266</td>\n",
       "      <td>遊走中港台的時尚精靈，歌手，RinaBijoux訂製珠寶設計師工作聯繫:海風時尚娛樂Benn...</td>\n",
       "    </tr>\n",
       "    <tr>\n",
       "      <th>...</th>\n",
       "      <td>...</td>\n",
       "      <td>...</td>\n",
       "    </tr>\n",
       "    <tr>\n",
       "      <th>3951</th>\n",
       "      <td>856</td>\n",
       "      <td>Livethelifeyoulove，lovethelifeyoulive.，作家，《误入妻...</td>\n",
       "    </tr>\n",
       "    <tr>\n",
       "      <th>3952</th>\n",
       "      <td>1609</td>\n",
       "      <td>爱好排行榜：1MyPrincess，2电影，3动漫绘画，4游戏，5写作，6……兴趣排行榜：1...</td>\n",
       "    </tr>\n",
       "    <tr>\n",
       "      <th>3953</th>\n",
       "      <td>2440</td>\n",
       "      <td>金华市中心医院肛肠外科主任、学科带头人，省肛肠外科学分会委员，金华市肛肠外科学分会主任委员、...</td>\n",
       "    </tr>\n",
       "    <tr>\n",
       "      <th>3954</th>\n",
       "      <td>2837</td>\n",
       "      <td>自由的惰性气体，可以改变我的形状，却改变不了我的分子。代表作品静态电影《风声后传》《望天树，...</td>\n",
       "    </tr>\n",
       "    <tr>\n",
       "      <th>3955</th>\n",
       "      <td>560</td>\n",
       "      <td>简简单单做人，认认真真做事，踏踏实实生活，知足常乐人生!，开门评警—第四届“我最喜爱的人民警...</td>\n",
       "    </tr>\n",
       "  </tbody>\n",
       "</table>\n",
       "<p>3956 rows × 2 columns</p>\n",
       "</div>"
      ],
      "text/plain": [
       "        id                                               data\n",
       "0     2844  80后小警微博，今学习工作在网络，期待与您共同关注互联网、关注我们身边的互联网安全。微博纯属...\n",
       "1     1316  華納歌手2012年最新派台歌<到此為止><好好過>／2011年電影<喜愛夜蒲>女主角／希望大...\n",
       "2     2879  已出版《蝎子的猎物》《可惜我是水瓶座》《天使的嫁纱》；2009年于台湾出版个人星座系列小说：...\n",
       "3      898  以一种勇敢无畏的精神，兢兢业业的作风，昂扬的斗志积极践行着“奉献、有爱、互助、进步”的志愿精...\n",
       "4     2266  遊走中港台的時尚精靈，歌手，RinaBijoux訂製珠寶設計師工作聯繫:海風時尚娛樂Benn...\n",
       "...    ...                                                ...\n",
       "3951   856  Livethelifeyoulove，lovethelifeyoulive.，作家，《误入妻...\n",
       "3952  1609  爱好排行榜：1MyPrincess，2电影，3动漫绘画，4游戏，5写作，6……兴趣排行榜：1...\n",
       "3953  2440  金华市中心医院肛肠外科主任、学科带头人，省肛肠外科学分会委员，金华市肛肠外科学分会主任委员、...\n",
       "3954  2837  自由的惰性气体，可以改变我的形状，却改变不了我的分子。代表作品静态电影《风声后传》《望天树，...\n",
       "3955   560  简简单单做人，认认真真做事，踏踏实实生活，知足常乐人生!，开门评警—第四届“我最喜爱的人民警...\n",
       "\n",
       "[3956 rows x 2 columns]"
      ]
     },
     "execution_count": 23,
     "metadata": {},
     "output_type": "execute_result"
    }
   ],
   "source": [
    "df_train\n",
    "df_test"
   ]
  },
  {
   "cell_type": "code",
   "execution_count": 24,
   "metadata": {},
   "outputs": [],
   "source": [
    "def get_label(data_dir):\n",
    "    # 获取的数据\n",
    "    label_list = []\n",
    "    \n",
    "    # 获取ID\n",
    "    label_id_list = [file_name.split('.')[0] for file_name in os.listdir(data_dir) if '.csv' in file_name]\n",
    "    # 循环ID\n",
    "    for ID in tqdm(set(label_id_list)):\n",
    "        \n",
    "        # 获取标签\n",
    "        label_path = os.path.join(data_dir,ID+'.csv')\n",
    "        df_label = pd.read_csv(label_path)\n",
    "        label_list += [df_label]\n",
    "    # dataframe\n",
    "    df_label = pd.concat(label_list)\n",
    "    return df_label"
   ]
  },
  {
   "cell_type": "code",
   "execution_count": 25,
   "metadata": {},
   "outputs": [
    {
     "name": "stderr",
     "output_type": "stream",
     "text": [
      "100%|██████████| 2515/2515 [00:30<00:00, 82.48it/s]\n"
     ]
    },
    {
     "data": {
      "text/html": [
       "<div>\n",
       "<style scoped>\n",
       "    .dataframe tbody tr th:only-of-type {\n",
       "        vertical-align: middle;\n",
       "    }\n",
       "\n",
       "    .dataframe tbody tr th {\n",
       "        vertical-align: top;\n",
       "    }\n",
       "\n",
       "    .dataframe thead th {\n",
       "        text-align: right;\n",
       "    }\n",
       "</style>\n",
       "<table border=\"1\" class=\"dataframe\">\n",
       "  <thead>\n",
       "    <tr style=\"text-align: right;\">\n",
       "      <th></th>\n",
       "      <th>ID</th>\n",
       "      <th>Category</th>\n",
       "      <th>Pos_b</th>\n",
       "      <th>Pos_e</th>\n",
       "      <th>Privacy</th>\n",
       "    </tr>\n",
       "  </thead>\n",
       "  <tbody>\n",
       "    <tr>\n",
       "      <th>0</th>\n",
       "      <td>1316</td>\n",
       "      <td>address</td>\n",
       "      <td>17</td>\n",
       "      <td>18</td>\n",
       "      <td>仙本</td>\n",
       "    </tr>\n",
       "    <tr>\n",
       "      <th>1</th>\n",
       "      <td>1316</td>\n",
       "      <td>address</td>\n",
       "      <td>25</td>\n",
       "      <td>27</td>\n",
       "      <td>吉隆坡</td>\n",
       "    </tr>\n",
       "    <tr>\n",
       "      <th>2</th>\n",
       "      <td>1316</td>\n",
       "      <td>address</td>\n",
       "      <td>30</td>\n",
       "      <td>31</td>\n",
       "      <td>沙巴</td>\n",
       "    </tr>\n",
       "    <tr>\n",
       "      <th>3</th>\n",
       "      <td>1316</td>\n",
       "      <td>address</td>\n",
       "      <td>38</td>\n",
       "      <td>39</td>\n",
       "      <td>斗湖</td>\n",
       "    </tr>\n",
       "    <tr>\n",
       "      <th>4</th>\n",
       "      <td>1316</td>\n",
       "      <td>organization</td>\n",
       "      <td>54</td>\n",
       "      <td>56</td>\n",
       "      <td>阿森纳</td>\n",
       "    </tr>\n",
       "    <tr>\n",
       "      <th>...</th>\n",
       "      <td>...</td>\n",
       "      <td>...</td>\n",
       "      <td>...</td>\n",
       "      <td>...</td>\n",
       "      <td>...</td>\n",
       "    </tr>\n",
       "    <tr>\n",
       "      <th>6</th>\n",
       "      <td>2440</td>\n",
       "      <td>movie</td>\n",
       "      <td>35</td>\n",
       "      <td>44</td>\n",
       "      <td>（不要和陌生人说话）</td>\n",
       "    </tr>\n",
       "    <tr>\n",
       "      <th>7</th>\n",
       "      <td>2440</td>\n",
       "      <td>movie</td>\n",
       "      <td>46</td>\n",
       "      <td>52</td>\n",
       "      <td>（中国式离婚）</td>\n",
       "    </tr>\n",
       "    <tr>\n",
       "      <th>8</th>\n",
       "      <td>2440</td>\n",
       "      <td>movie</td>\n",
       "      <td>54</td>\n",
       "      <td>60</td>\n",
       "      <td>（新结婚时代）</td>\n",
       "    </tr>\n",
       "    <tr>\n",
       "      <th>9</th>\n",
       "      <td>2440</td>\n",
       "      <td>movie</td>\n",
       "      <td>62</td>\n",
       "      <td>66</td>\n",
       "      <td>（家常菜）</td>\n",
       "    </tr>\n",
       "    <tr>\n",
       "      <th>0</th>\n",
       "      <td>560</td>\n",
       "      <td>address</td>\n",
       "      <td>83</td>\n",
       "      <td>84</td>\n",
       "      <td>泰国</td>\n",
       "    </tr>\n",
       "  </tbody>\n",
       "</table>\n",
       "<p>20503 rows × 5 columns</p>\n",
       "</div>"
      ],
      "text/plain": [
       "      ID      Category  Pos_b  Pos_e     Privacy\n",
       "0   1316       address     17     18          仙本\n",
       "1   1316       address     25     27         吉隆坡\n",
       "2   1316       address     30     31          沙巴\n",
       "3   1316       address     38     39          斗湖\n",
       "4   1316  organization     54     56         阿森纳\n",
       "..   ...           ...    ...    ...         ...\n",
       "6   2440         movie     35     44  （不要和陌生人说话）\n",
       "7   2440         movie     46     52     （中国式离婚）\n",
       "8   2440         movie     54     60     （新结婚时代）\n",
       "9   2440         movie     62     66       （家常菜）\n",
       "0    560       address     83     84          泰国\n",
       "\n",
       "[20503 rows x 5 columns]"
      ]
     },
     "execution_count": 25,
     "metadata": {},
     "output_type": "execute_result"
    }
   ],
   "source": [
    "df_train_label = get_label(train_data_label)\n",
    "df_train_label"
   ]
  },
  {
   "cell_type": "code",
   "execution_count": 28,
   "metadata": {},
   "outputs": [
    {
     "name": "stdout",
     "output_type": "stream",
     "text": [
      "{'company', 'address', 'game', 'position', 'organization', 'book', 'mobile', 'vx', 'government', 'scene', 'QQ', 'name', 'email', 'movie'}\n"
     ]
    }
   ],
   "source": [
    "print(set(df_train_label.Category))\n",
    "# print(set(df_train_label['Category']))"
   ]
  },
  {
   "cell_type": "code",
   "execution_count": 37,
   "metadata": {},
   "outputs": [
    {
     "data": {
      "text/html": [
       "<div>\n",
       "<style scoped>\n",
       "    .dataframe tbody tr th:only-of-type {\n",
       "        vertical-align: middle;\n",
       "    }\n",
       "\n",
       "    .dataframe tbody tr th {\n",
       "        vertical-align: top;\n",
       "    }\n",
       "\n",
       "    .dataframe thead th {\n",
       "        text-align: right;\n",
       "    }\n",
       "</style>\n",
       "<table border=\"1\" class=\"dataframe\">\n",
       "  <thead>\n",
       "    <tr style=\"text-align: right;\">\n",
       "      <th></th>\n",
       "      <th>Category</th>\n",
       "      <th>Privacy</th>\n",
       "    </tr>\n",
       "  </thead>\n",
       "  <tbody>\n",
       "    <tr>\n",
       "      <th>0</th>\n",
       "      <td>QQ</td>\n",
       "      <td>33370722 415392980 490401933 160308912 5276228...</td>\n",
       "    </tr>\n",
       "    <tr>\n",
       "      <th>1</th>\n",
       "      <td>address</td>\n",
       "      <td>仙本 吉隆坡 沙巴 斗湖 柬埔寨南部城市西哈努克 泰国 韩国 新加坡 杭州 深圳 广州 丽泽...</td>\n",
       "    </tr>\n",
       "    <tr>\n",
       "      <th>2</th>\n",
       "      <td>book</td>\n",
       "      <td>《小康·财智》 大众软件 商报 《时有女子》 《哈利·波特》 凯斯宾王子 《哈姆雷特》 每经...</td>\n",
       "    </tr>\n",
       "    <tr>\n",
       "      <th>3</th>\n",
       "      <td>company</td>\n",
       "      <td>中国银联 bwin 农行 广州市梦婕演绎文化传播有限公司 渣打银行 中储粮 大盛国际传媒 v...</td>\n",
       "    </tr>\n",
       "    <tr>\n",
       "      <th>4</th>\n",
       "      <td>email</td>\n",
       "      <td>jdfz520@yahoo.cn wujing@missworld.cn bcw.3peop...</td>\n",
       "    </tr>\n",
       "    <tr>\n",
       "      <th>5</th>\n",
       "      <td>game</td>\n",
       "      <td>(暗黑3) 《仙剑奇侠传5》 魔兽3 魔兽星际2 dota2 《三国群英传Ⅶ》 《毁灭公爵2...</td>\n",
       "    </tr>\n",
       "    <tr>\n",
       "      <th>6</th>\n",
       "      <td>government</td>\n",
       "      <td>公安部 古巴军队 美国雇佣军 美国海军 美国海军 俄罗斯武装力量战斗训练和军队服务管理总局 ...</td>\n",
       "    </tr>\n",
       "    <tr>\n",
       "      <th>7</th>\n",
       "      <td>mobile</td>\n",
       "      <td>13512794458 13501379817 18611925061 1381195244...</td>\n",
       "    </tr>\n",
       "    <tr>\n",
       "      <th>8</th>\n",
       "      <td>movie</td>\n",
       "      <td>&lt;七品钦差刘罗锅&gt;&gt; &lt;&lt;至尊食王&gt;&gt; &lt;&lt;大唐芙蓉園&gt;&gt; &lt;&lt;前門樓子九丈九&gt;&gt; &lt;&lt;唐山...</td>\n",
       "    </tr>\n",
       "    <tr>\n",
       "      <th>9</th>\n",
       "      <td>name</td>\n",
       "      <td>亚当斯 张黎 项俊波 金尼尔 范冰冰 刘小 金梦婕 于文霞 刘晨 邬晶 谢亚龙 安德鲁·亚当...</td>\n",
       "    </tr>\n",
       "    <tr>\n",
       "      <th>10</th>\n",
       "      <td>organization</td>\n",
       "      <td>阿森纳 英格兰队 佛罗伦萨 澳彩 曼联 梦婕艺术团 世界小姐中国区组委会艺人 世界小姐中国区...</td>\n",
       "    </tr>\n",
       "    <tr>\n",
       "      <th>11</th>\n",
       "      <td>position</td>\n",
       "      <td>队长 演员 贝司手 行长 教练 总监 梦婕艺术团长 CEO 总监 世界小姐中国选手经纪人 经...</td>\n",
       "    </tr>\n",
       "    <tr>\n",
       "      <th>12</th>\n",
       "      <td>scene</td>\n",
       "      <td>高龙岛 高龙岛 厦门观音山 五缘湾 阿笨哥 中信山语湖 念青唐古拉山脉 念峰 银锭关山 雷尼...</td>\n",
       "    </tr>\n",
       "    <tr>\n",
       "      <th>13</th>\n",
       "      <td>vx</td>\n",
       "      <td>wwjshow liushasha319439 montager zhangzhizheng...</td>\n",
       "    </tr>\n",
       "  </tbody>\n",
       "</table>\n",
       "</div>"
      ],
      "text/plain": [
       "        Category                                            Privacy\n",
       "0             QQ  33370722 415392980 490401933 160308912 5276228...\n",
       "1        address  仙本 吉隆坡 沙巴 斗湖 柬埔寨南部城市西哈努克 泰国 韩国 新加坡 杭州 深圳 广州 丽泽...\n",
       "2           book  《小康·财智》 大众软件 商报 《时有女子》 《哈利·波特》 凯斯宾王子 《哈姆雷特》 每经...\n",
       "3        company  中国银联 bwin 农行 广州市梦婕演绎文化传播有限公司 渣打银行 中储粮 大盛国际传媒 v...\n",
       "4          email  jdfz520@yahoo.cn wujing@missworld.cn bcw.3peop...\n",
       "5           game  (暗黑3) 《仙剑奇侠传5》 魔兽3 魔兽星际2 dota2 《三国群英传Ⅶ》 《毁灭公爵2...\n",
       "6     government  公安部 古巴军队 美国雇佣军 美国海军 美国海军 俄罗斯武装力量战斗训练和军队服务管理总局 ...\n",
       "7         mobile  13512794458 13501379817 18611925061 1381195244...\n",
       "8          movie  <七品钦差刘罗锅>> <<至尊食王>> <<大唐芙蓉園>> <<前門樓子九丈九>> <<唐山...\n",
       "9           name  亚当斯 张黎 项俊波 金尼尔 范冰冰 刘小 金梦婕 于文霞 刘晨 邬晶 谢亚龙 安德鲁·亚当...\n",
       "10  organization  阿森纳 英格兰队 佛罗伦萨 澳彩 曼联 梦婕艺术团 世界小姐中国区组委会艺人 世界小姐中国区...\n",
       "11      position  队长 演员 贝司手 行长 教练 总监 梦婕艺术团长 CEO 总监 世界小姐中国选手经纪人 经...\n",
       "12         scene  高龙岛 高龙岛 厦门观音山 五缘湾 阿笨哥 中信山语湖 念青唐古拉山脉 念峰 银锭关山 雷尼...\n",
       "13            vx  wwjshow liushasha319439 montager zhangzhizheng..."
      ]
     },
     "execution_count": 37,
     "metadata": {},
     "output_type": "execute_result"
    }
   ],
   "source": [
    "# df_label_trian_category = df_train_label.groupby(['Category','Privacy']).agg(lambda x:' '.join([str(i) for i in list(x)]))\n",
    "# df_label_trian_category = df_train_label.groupby(['Category','Privacy']).agg(lambda x:' '.join([str(i) for i in list(x)])).reset_index()\n",
    "df_label_trian_category = df_train_label.groupby(['Category'])['Privacy'].agg(lambda x: ' '.join([str(i) for i in list(x)])).reset_index()\n",
    "df_label_trian_category"
   ]
  },
  {
   "cell_type": "code",
   "execution_count": 51,
   "metadata": {},
   "outputs": [],
   "source": [
    "# 'company', 'address', 'game', 'position', 'organization', 'book', 'mobile', 'vx', 'government', 'scene', 'QQ', 'name', 'email', 'movie'\n",
    "df_train_vx = df_train_label[df_train_label['Category']=='vx'][['Category','Privacy']]\n",
    "df_train_vx.to_csv('../data/regex/vx_train.csv',index=False)\n",
    "\n",
    "df_train_mobile = df_train_label[df_train_label['Category']=='mobile'][['Category','Privacy']]\n",
    "df_train_mobile.to_csv('../data/regex/mobile_train.csv',index=False)\n",
    "\n",
    "df_train_book = df_train_label[df_train_label['Category']=='book'][['Category','Privacy']]\n",
    "df_train_book.to_csv('../data/regex/book_train.csv',index=False)\n",
    "\n",
    "df_train_email = df_train_label[df_train_label['Category']=='email'][['Category','Privacy']]\n",
    "df_train_email.to_csv('../data/regex/email_train.csv',index=False)\n",
    "\n",
    "df_train_movie = df_train_label[df_train_label['Category']=='movie'][['Category','Privacy']]\n",
    "df_train_movie.to_csv('../data/regex/movie_train.csv',index=False)"
   ]
  },
  {
   "cell_type": "code",
   "execution_count": 57,
   "metadata": {},
   "outputs": [
    {
     "data": {
      "text/plain": [
       "'工作邮箱联系：33119699@qq.com我的淘宝店:http://baby-amelie.taobao.com/，内地组合至上励合成员刘洲成'"
      ]
     },
     "execution_count": 57,
     "metadata": {},
     "output_type": "execute_result"
    }
   ],
   "source": [
    "text = df_test[df_test['id']=='2984']['data'].values[0]\n",
    "text"
   ]
  },
  {
   "cell_type": "code",
   "execution_count": 115,
   "metadata": {
    "scrolled": false
   },
   "outputs": [
    {
     "name": "stdout",
     "output_type": "stream",
     "text": [
      "110\n",
      "['+886227627111', '347-738-8723', '+886）2-2752-1874', '+85294979172', '+886-936367799', '+886963110290', '+886223755010', '+86137-5787-9227', '00886928592269', '1861060699713940087450', '+88627627111', '+85266873859', '+85223352109', '+85266873859', '85172333-606', '886921024788', '8618611732247', '60122919901', '886-4-23029888', 'zzz813222', '+886-936-092-241', '+886-952-199-882', '1817534480', '+886287713553', '764957359', '0922-652-820', '0913-659-895', '+886913881777', '0978-022-680', '+886932147992', '+886910741038', '886-2-2738-7077', '0592-3931800', '84682361', '+8522335-2385', '+852-37411033', '+886928534302', '（852）23072034', '（852）66088899（86）13818199118', '886-4-23029888', '+60128816178', '010-6362212113910492247', '139-010-66161', '+86134-0106-3493', '+886920494700', '2335-2305/9263-3317', '+85223352109', '00852-69010858', '+85224372627', '+886-2-24255385', 'r886-2-25095720', '+852-98014313', '+85223352105', '057788285332', '772845851', '6821155', '2009', '886-2369-9886#585', '400-692-0001', '(02)2781-3888#51', '886921-379-135(', '0933905613', '02-25067711', '0916991114', '04-23109266', '0958208963', '+886)922231939', '886-989-264-950', '（+886）2-2752-1874', '+6568714242', '852)6466668', '86-150-1250-1083', '01065805888', '(886)2-27183108', '+886-2-28928639', '0085290544220', '+886927951202', '(852)61909075', '1827967769', '18086022688/13396088633', '25100123', '+886-2-66365725', '+85223352164', '00852-90544220', '+886-2-28318660e-', '+85223352118', '+88673802488', '+886227608890', '＋886227627111', '+886955002020', '13910405280董晨', '+886935516828', '＋60123774567', '0028862-2762-7111', 'y-23352132', '010-5762608757626088', '886-2-2753-1981', '0939858199', '（852）94896744', '（86）1380-2841-004', '+886926-004-045', '播886933711185', '69010858', '886926929796', '23352103', '0988006707', '886-924021021', '886-910000602', '+886975567203', '+886963333960']\n",
      "----------------------------------------------------------------------------------------------------\n",
      "167\n",
      "['13512794458', '13501379817', '18611925061', '13811952441', '139-1102-7909', '852-2335-2113', '13910735585', '13311311515', '+86-13636460588', '13910819844', '18953120001', 18618288171, '010﹣85570230', '13810963997', '13521243618', '13810849824', '18628169167', '15828284929', '15010836006', '852-39070486', '010-57612460', '13910975201', '13911829573', '13810168772', '18618289775', '13810091772', '15210169740', '010-58203428', '010-58696808', '18621805218', '13439591797', '13261538083', '852-23352105', '18911738839', '13732278181', '13661373557', '18675877722', '151-1005-0052', '18601160682', '13601336521', '18601126676', '13910008890', '18500057591', 13611185080, '18642834055', '13801097892', '010-62132837', '010-51626153', '13621072516', 15618300936, '15001131438', '13811096616', '15001267764', '13923180818', '18611797612', '18621805218', '010-58696808', '18611001981', '13801318005', '13910960648', '18600112400', '18601219959', '18857150858', '010-58697451', '13439992202', '13910239835', '13311361821', '18600190013', '18611124650', '18610298146', '18651870177', '13776659833', '15601089728', '13662102905', '18929341023', '13701233057', '138-1168-8572', '158-1121-2183', '13910663803', '137-0107-2631', '15801580925', '18611811168', '15901278078', '18611545632', '18601012468', '13907127072', '139-0101-7673', '18611683736', '15232185888', '15611245107', '010-56386038', '18901110907', '18613038899', '15220147111', '13811552015', '13601283569', '18611363682', '15013488725', '15920766912', '15811101287', '18618342854', '158-1014-6435', '15510384091', '13911369167', '138-0121-2506', '13910579477', '18621963983', '18210606685', '13810105207', '18610056224', '13923119898', '18611211355', '15821181236', '13810737919', '18669701489', '15816314444', '13810585448', '852-97392372', '15901492093', '13611356939', '18621915599', '13810105207', '13910220892', '13818958565', '13817519526', '18621199838', '13552380800', '18611146593', '18611999255', '18600608880', '13901236903', '13870962446', '18001206607', '13691110092', '13810319116', '13520605827', '18911175595', '18616873450', '852﹣23352164', '15998341111', '13701094423', '136-6137-3557', '15308876699', '13381002798', '13801281432', '18616873450', '139-1126-3572', '13198907077', '186-1179-4208', '18665092260', '13701063698', '852-23352385', '139-1126-3572', '13911960587', '18611006666', '18611801269', '+86-18601200718', '18611719384', '13911127613', '18977110565', '13911385512', '18801333086', '13501058727', '18610095883', '13311317888', '18611886534', '010-63012488']\n"
     ]
    }
   ],
   "source": [
    "# 使用正则表达式处理 vx,qq,mobile,email,如果使用正则，就没有训练的过程，直接从切割好的文件中找到模式即可，\n",
    "# test集合需要输出s_pos,e_pos，category，id ，entity等信息\n",
    "import copy\n",
    "# |(\\d{7,9}$)|(\\d{3}-\\d{4}-\\d{4})\n",
    "phone_regex = \\\n",
    "re.compile('(^1[3589][0-9]{9}$)|(^\\d{3}-\\d{4}-\\d{4}$)|(^\\d{3}[-﹣]\\d{8}$)|(^\\+\\d{2}-?\\d{11}$)')\n",
    "category_list = df_train_mobile['Privacy'].values\n",
    "category_ok_list = []\n",
    "category_list_copy = list(copy.deepcopy(category_list))\n",
    "for item in category_list:\n",
    "    result = phone_regex.findall(str(item))\n",
    "    if result != []:\n",
    "        category_ok_list.append(item)\n",
    "        category_list_copy.remove(item)\n",
    "print(len(category_list_copy))\n",
    "print(category_list_copy)\n",
    "print('--'*50)\n",
    "print(len(category_ok_list))\n",
    "print(category_ok_list)"
   ]
  },
  {
   "cell_type": "code",
   "execution_count": 119,
   "metadata": {},
   "outputs": [
    {
     "name": "stdout",
     "output_type": "stream",
     "text": [
      "11\n",
      "['高一桉gya2012vip@sina.com...', 'kenneth', 'www.celinajade.com', '金晶kinkiemail', 'yabinstudio@sina.com@music', \"'pamela@dreamstardom.com\", 'GaryCheung@', 'info@wowmusic.', 'winpy.lau@tvb.com.', 'www.starmusichk.com', 'jessicafplydia@yahoo.com.hk.']\n",
      "----------------------------------------------------------------------------------------------------\n",
      "248\n",
      "['jdfz520@yahoo.cn', 'wujing@missworld.cn', 'bcw.3people@gmail.com', 'desen66@126.com', 'aben@alegendstar.com', 'leevi0129@126.com', 'jeff.aam@gmail.com', 'arjay588@gmail.com', 'aben@alegendstar.com', 'derekgaga@gmail.com', 'sammy@catwalkagency.com', 'miki1234567@tom.com', 'toyiau@gpaa.com.hk', 'dvfuns@gmail.com', 'aimmo_pawan@hotmail.com', '1257677705@qq.com', 'linyuchun@eelin.com.tw', '79147402@qq.com', 'pccwman@hotmail.com', 'dreamux@yahoo.com.hk', 'rain_ho2656@yahoo.com.cn', 'Ld6919@126.com', 'aben@alegendstar.com', 'zhengluoqianwork@163.com', 'montager@foxmail.com', 'star2012@foxmail.com', 'nonamepunks@hotmail.com', 'wangwuli@vip.126.com', 'fanyuwei@hotmail.com', 'amy@hkfootage.com', 'chenleiguitar@vip.163.com', 'lolla3112@gmail.com', '发bjliuyh@126.com', 'liangshuang1122@126.com', 'jesseyyi@youhugmedia.com', 'cky1792@yahoo.com.hk', 'service@moontalk.com.tw', 'tvbbecky@gmail.com', 'hejingxinxiang@163.com', 'artiste.harmonic@gmail.com', 'jjay999@163.com', 'den02162000@chicgroup.com', 'anjon0731@sina.com', 'pengdanys@qq.com', 'yinentertainment@gmail.com', 'sanders.xu@hotmail.com', 'hai_nan2005@126.com', '657255312@qq.com', 'the80king@126.com', 'jamal_sun@msn.com', 'eyoung@eemedia.cn', 'honglin@eemedia.cn', 'houxian_work@thmusic.com.cn', 'daijun_studio@126.com', 'ting.jei@gmail.com', 'Lweiyt@163.com', 'danghongxiaozhu@yahoo.cn', 'hsmedia0211@hotmail.com', 'info@want-ent.com', 'dengluping@vip.sina.com', 'lingying@188.com', 'jo615tw@gmail.com', 'annnia@hotmail.com', 'phchen322@yahoo.com', 'xmbike@188.com', 'guanshaozeng007@163.com', 'gaotianliang0519@163.com', 'meo@ellen-chan.com', 'sexymeo@188.com', 'hejingxinxiang@163.com', 'jinguoshengshi@vip.sina.com', 'lianganan@gmail.com', 'vivian.live.love@163.com', 'lifeier_jing@163.com', 'info@wowmusic.hk', 'qianqian2378@163.com', 'solaaoi@sina.cn', '112378451@qq.com', 'candybar88@sina.com', 'eleelegroup@gmail.com', 'hsmedia0211@hotmail.com', 'chenniechang@gmail.com', 'info@nova-ent.com', 'Ivyivyliu56526@yahoo.com.tw', 'ivyliu1967@gmail.com', 'ben718@ymail.com', 'toast.stanley@gmail.com', '1468491333@QQ.COM', 'service@moontalk.com.tw', '609602937@qq.com', 'eddie@victoriahk.com', 'ricky@victoriahk.com', 'gcheung1973@yahoo.com', 'zoabout@gmail.com', 'ella.heung@tvb.com.hk', 'hejingxinxiang@163.com', 'abbyeung@gmail.com', '1213785766@qq.com', 'saent@netvigator.com', 'crazyautofans@gmail.com', 'xuanchuan_kayla@163.com', 'primetime@ptmedia.asia', 'zpspeh@hanmail.net', 'dmsgPtkfkd@hotmail.com', 'shinmusi@ms51.hinet.net', 'caoyangmodel@163.com', 'yaojiantbs@126.com', 'dobby0527@gmail.com', 'manager0211@sina.com', 'roro@showcitytimes.net', 'xinrong_li@vip.163.com', 'Anita.lto@gmail.com', 'hongju998@sina.com', '772845851@qq.com', 'oscarg@163.com', 'romance_h1982@hotmail.com', 'bella.anan@qq.com', 'coop@newbeat.com.cn', 'zhuzishan@live.cn', 'ycwwhy@sina.com', 'handongwork@163.com', 'Rockclubcrew@gmail.com', 'fanstang@fanstang.com', 'jjrjiangyue@qq.com', 'fanyuwei@hotmail.com', 'wuyuemail@126.com', 'angelinazhu@163.com', 'karizm@gmail.com', 'ellyliu@livemail.tw', 'bianjuyuxiaoqian@sina.cn', 'bianjuyuxiaoqian@vip.126.com', 'onymoore@summus-group.com', 'Sunsetpeakfilms@gmail.com', '37769693@qq.com', '840548484@QQ.com', 'viki077@hotmail.com', 'eyoung@eemedia.cn', 'honglin@eemedia.cn', 'lilypanstudio@126.com', 'alps123@hotmail.com', 'liuyichen@trmusic.com.cn', 'v2happyday@126.com', 'vangie.schedule@gmail.com', '13811552015@163.com', 'luckymonkeyband@gmail.com', 'kaymar1050@hotmail.com', 'songxiaobo@vip.126.com', 'info@freewayltd.com', 'jimmylin@jimmylin.a', 'milan001@qq.com', 'arjay588@gmail.com', 'LingFang.Leo@modeentertainment.com', 'he15012501083@gmail.com', 'jenomusic_studio@live.com', 'ryan@starlakeagency.com', 's.apple@163.com', 'boyzks@gmail.com', 'chrissyliu@mac.com', '569446936@qq.com', 'jeffreychen@vip.sina.com', 'damouthme@gmail.com', 'yuxuan1118@126.com', 'rickychiu2004@yahoo.com.hk', '88132575@qq.com', '2389924948@qq.com', 'a_chefamily@yahoo.com.tw', 'mailyaoavnu@gmail.com', 'jrfog@qq.com', 'zooparty720206@gmail.com', 'iseartist@gmail.com', 'kenjop@126.com', '1065808841@qq.com', 'info@kearenpang.com', 'yebeimusic@gmail.com', 'wjh1721@yahoo.com.tw', 'toyiau@gpaa.com.hk', 'tt@skykee.com', 'info@hyperbitch.com', 'emma.lee@thebrandcore.com', 'baotianmao@hotmail.com', 'hera_mm@qq.com', 'j.yu@giantrabbit.asia', 'ee-jingjibu@qq.com', 'cywh88888@vip.126.com', 'Calvin-c2009@hotmail.com', 'hsuben0624@gmail.com', 'kinglovewow@163.com', 'tvbcindyng@gmail.com', 'wingsaad@vip.188.com', '11studiotw@gmail.com', 'fanstang@fanstang.com', 'sunjia916@126.com', 'youngmai@yeah.net', 'hs@hongshui.com.cn', 'nancykou0522@yahoo.com.tw', 'manager@snh48.com', 'admin@yiseloo.com', 'zhiyun_03@yahoo.com', 'andychang@alegendstar.com', 'aben@alegendstar.com', 'juzi3068@hotmail.com', 'skinnylazybone@gmail.com', 'hai_nan2005@126.com', 'taddy@starmusichk.com', 'mko-7@163.com', 'huihui0201@126.com', 'awei@alegendstar.com', '57150788@qq.com', 'tompan@vip.126.com', 'roychowmusic@gmail.com', 'pancy8888@yahoo.com.hk', '34836378@qq.com', 'tom.pokface@yahoo.cn', 'fanstang@fanstang.com', 'suqing75@163.com', 'mh201221@gmail.com', 'mhmhmw@gmail.com', 'bill_yeung@uih.com.hk', 'djg999@126.com', 'littlet8516@hotmail.com', '419390096@qq.com', 'saent@netvigator.com', '986728805@qq.com', 'lindsey417@163.com', '13911181807@126.com', '13911263572@126.com', 'jangseohee@jangruicy.com', 'wudongfang@188.com', 'Keven@artwalker.org', 'juli@julitv.com', 'fudoushinn@hotmail.com', 'tinaluck21@gmail.com', 'zzvss@sina.com', 'work@anytimechina.com', '18618193311@163.com', 'haowenjing718@126.com', 'yidongpai@126.com', 'panpan3388@yahoo.com.hk', 'Szekikk@gmail.com', 'dearxg198236@163.com', 'caisewu@gmail.com', 'soulwayproductions@me.com', 'amyjuan.aj@gmail.com', 'zxl129@vip.sina.com', '350868843@qq.com', 'rickylin7028@gmail.com', 'emilykuo77@gmail.com', 'james.cheung@sonymusic.com']\n"
     ]
    }
   ],
   "source": [
    "phone_regex = \\\n",
    "re.compile('^[A-Za-z0-9\\u4e00-\\u9fa5\\._\\-]+@[a-zA-Z0-9_-]+(\\.[a-zA-Z0-9_-]+)+$')\n",
    "category_list = df_train_email['Privacy'].values\n",
    "category_ok_list = []\n",
    "category_list_copy = list(copy.deepcopy(category_list))\n",
    "for item in category_list:\n",
    "    result = phone_regex.findall(str(item))\n",
    "    if result != []:\n",
    "        category_ok_list.append(item)\n",
    "        category_list_copy.remove(item)\n",
    "print(len(category_list_copy))\n",
    "print(category_list_copy)\n",
    "print('--'*50)\n",
    "print(len(category_ok_list))\n",
    "print(category_ok_list)"
   ]
  },
  {
   "cell_type": "code",
   "execution_count": 121,
   "metadata": {},
   "outputs": [
    {
     "name": "stdout",
     "output_type": "stream",
     "text": [
      "5\n",
      "['lily潘小芬', '1827967769', '57150788', '57150788', '13426245800']\n",
      "----------------------------------------------------------------------------------------------------\n",
      "14\n",
      "['wwjshow', 'liushasha319439', 'montager', 'zhangzhizheng-zzz', 'rachel-213', 'sjyy98', 'zhuzhiyi91510', 'zhuzishanmisstin', 'tianlangyinyue', 'mengmeng6570', 'waveapp', 'songxiaobo', 'hongshui001', 'hongshui007']\n"
     ]
    }
   ],
   "source": [
    "phone_regex = \\\n",
    "re.compile('^[a-zA-Z][a-zA-Z\\d_-]{5,19}$')\n",
    "category_list = df_train_vx['Privacy'].values\n",
    "category_ok_list = []\n",
    "category_list_copy = list(copy.deepcopy(category_list))\n",
    "for item in category_list:\n",
    "    result = phone_regex.findall(str(item))\n",
    "    if result != []:\n",
    "        category_ok_list.append(item)\n",
    "        category_list_copy.remove(item)\n",
    "print(len(category_list_copy))\n",
    "print(category_list_copy)\n",
    "print('--'*50)\n",
    "print(len(category_ok_list))\n",
    "print(category_ok_list)"
   ]
  },
  {
   "cell_type": "markdown",
   "metadata": {},
   "source": [
    "## 使用crf-suite库来学习模型"
   ]
  },
  {
   "cell_type": "code",
   "execution_count": 127,
   "metadata": {},
   "outputs": [],
   "source": [
    "def get_list_data(data_path):\n",
    "    with open(data_path,'r',encoding='utf-8') as f:\n",
    "        line = ''.join(f.readlines())\n",
    "        list_data = list(line)\n",
    "    return list_data"
   ]
  },
  {
   "cell_type": "code",
   "execution_count": 128,
   "metadata": {},
   "outputs": [],
   "source": [
    "# 采用BIOES 标注体系\n",
    "def get_BIOES(list_data, df_label):\n",
    "    list_label = ['O'] * len(list_data)\n",
    "    for index,d in df_label.iterrows():\n",
    "        ID = d['ID']\n",
    "        Category = d['Category']\n",
    "        Pos_b = d['Pos_b']\n",
    "        Pos_e = d['Pos_e']\n",
    "        \n",
    "        # 异常数据处理\n",
    "        if 2162 == ID:\n",
    "            Category == '前明骏女孩组合队长\"'\n",
    "            Pos_e = Pos_e - 1\n",
    "\n",
    "        if Pos_b == Pos_e:\n",
    "            list_label[Pos_b] = 'S_' + Category\n",
    "        elif Pos_b - Pos_e == 1:\n",
    "            list_label[Pos_b] = 'B_' + Category\n",
    "            list_label[Pos_e] = 'E_' + Category\n",
    "        else:\n",
    "            # 异常数据处理\n",
    "            try:\n",
    "                list_label[Pos_b] = 'B_' + Category\n",
    "                list_label[Pos_e] = 'E_' + Category \n",
    "                for pos_i in range(Pos_b+1,Pos_e):\n",
    "                    list_label[pos_i] = 'I_' + Category \n",
    "            except:\n",
    "                print(ID)\n",
    "    return [(ID,data,label) for data,label in zip(list_data,list_label)]"
   ]
  },
  {
   "cell_type": "code",
   "execution_count": 134,
   "metadata": {},
   "outputs": [],
   "source": [
    "def get_data_label(path_dir_data,path_dir_label):\n",
    "    \n",
    "    # 训练数据集\n",
    "    list_BIOES = []\n",
    "    # 获取训练集 ID\n",
    "    list_data_ID = [file_name.split('.')[0] for file_name in os.listdir(path_dir_data) if '.txt' in file_name]\n",
    "    list_label_ID = [file_name.split('.')[0] for file_name in os.listdir(path_dir_label) if '.csv' in file_name]\n",
    "    \n",
    "    # 循环训练集 ID\n",
    "    for ID in tqdm(set(list_data_ID) & set(list_label_ID)):\n",
    "        # 获取词和标签地址\n",
    "        data_path = os.path.join(path_dir_data,ID+'.txt')\n",
    "        label_path = os.path.join(path_dir_label,ID+'.csv')\n",
    "        \n",
    "        # 获取词和标签数据\n",
    "        list_data = get_list_data(data_path)\n",
    "#         print('list_data:',list_data)\n",
    "        df_label = pd.read_csv(label_path)\n",
    "        \n",
    "        # BIOES 进行标注\n",
    "        BIOES = get_BIOES(list_data, df_label)\n",
    "        \n",
    "        # 加入训练数据集\n",
    "        list_BIOES += [BIOES]\n",
    "        \n",
    "    return list_BIOES"
   ]
  },
  {
   "cell_type": "code",
   "execution_count": 135,
   "metadata": {},
   "outputs": [
    {
     "name": "stderr",
     "output_type": "stream",
     "text": [
      "100%|██████████| 2515/2515 [00:10<00:00, 243.51it/s]\n"
     ]
    }
   ],
   "source": [
    "list_BIOES_train = get_data_label(train_data_path,train_data_label)"
   ]
  },
  {
   "cell_type": "code",
   "execution_count": 137,
   "metadata": {},
   "outputs": [],
   "source": [
    "def get_data(path_dir_data):\n",
    "    \n",
    "    # 测试数据集\n",
    "    list_BIOES = []\n",
    "    # 获取测试集 ID\n",
    "    list_data_ID = [file_name.split('.')[0] for file_name in os.listdir(path_dir_data) if '.txt' in file_name]\n",
    "   \n",
    "    # 循环测试集 ID\n",
    "    for ID in tqdm(set(list_data_ID)):\n",
    "        # 获取词\n",
    "        data_path = os.path.join(path_dir_data,ID+'.txt')\n",
    "        \n",
    "        # 获取词\n",
    "        list_data = get_list_data(data_path)\n",
    "        \n",
    "        # BIOES 进行标注\n",
    "        BIOES = [(ID,data,'N') for data in list_data]\n",
    "        \n",
    "        # 加入训练数据集\n",
    "        list_BIOES += [BIOES]\n",
    "        \n",
    "    return list_BIOES"
   ]
  },
  {
   "cell_type": "code",
   "execution_count": 138,
   "metadata": {},
   "outputs": [
    {
     "name": "stderr",
     "output_type": "stream",
     "text": [
      "100%|██████████| 3956/3956 [00:00<00:00, 5175.25it/s]\n"
     ]
    }
   ],
   "source": [
    "list_BIOES_test = get_data(test_data_path)"
   ]
  },
  {
   "cell_type": "code",
   "execution_count": 141,
   "metadata": {},
   "outputs": [],
   "source": [
    "train_data_01, val_data_01 = list_BIOES_train[:int(0.8 * len(list_BIOES_train))], list_BIOES_train[int(0.8 * len(list_BIOES_train)):]"
   ]
  },
  {
   "cell_type": "code",
   "execution_count": 124,
   "metadata": {},
   "outputs": [],
   "source": [
    "import nltk\n",
    "import sklearn \n",
    "import sklearn_crfsuite\n",
    "from sklearn_crfsuite import scorers,metrics"
   ]
  },
  {
   "cell_type": "code",
   "execution_count": 125,
   "metadata": {},
   "outputs": [],
   "source": [
    "def word2features(sent, i):\n",
    "    word = sent[i][1]\n",
    "    \n",
    "    features = {\n",
    "        'bias': 1.0,\n",
    "        'word': word\n",
    "    }\n",
    "    \n",
    "    if i > 0:\n",
    "        word = sent[i-1][1]\n",
    "        features.update({\n",
    "            '-1:word': word\n",
    "        })\n",
    "    else:\n",
    "        features['BOS'] = True\n",
    "\n",
    "    if i > 1:\n",
    "        word = sent[i-2][1]\n",
    "        features.update({\n",
    "            '-2:word': word\n",
    "        })\n",
    "    else:\n",
    "        features['BOS'] = True        \n",
    "        \n",
    "        \n",
    "    if i < len(sent)-1:\n",
    "        word = sent[i+1][1]\n",
    "        features.update({\n",
    "            '+1:word': word\n",
    "        })\n",
    "    else:\n",
    "        features['EOS'] = True\n",
    "\n",
    "    if i < len(sent)-2:\n",
    "        word = sent[i+2][1]\n",
    "        features.update({\n",
    "            '+2:word': word\n",
    "        })\n",
    "    else:\n",
    "        features['EOS'] = True\n",
    "        \n",
    "    return features"
   ]
  },
  {
   "cell_type": "code",
   "execution_count": 126,
   "metadata": {},
   "outputs": [],
   "source": [
    "def sent2features(sent):\n",
    "    return [word2features(sent, i) for i in range(len(sent))]\n",
    "\n",
    "def sent2labels(sent):\n",
    "    return [label for ID, token, label in sent]\n",
    "\n",
    "def sent2tokens(sent):\n",
    "    return [token for ID, token, label in sent]"
   ]
  },
  {
   "cell_type": "code",
   "execution_count": null,
   "metadata": {},
   "outputs": [],
   "source": [
    "%%time\n",
    "X_train = [sent2features(s) for s in train_data_01]\n",
    "y_train = [sent2labels(s) for s in train_data_01]\n",
    "\n",
    "X_val = [sent2features(s) for s in val_data_01]\n",
    "y_val = [sent2labels(s) for s in val_data_01]"
   ]
  }
 ],
 "metadata": {
  "kernelspec": {
   "display_name": "ner",
   "language": "python",
   "name": "ner"
  },
  "language_info": {
   "codemirror_mode": {
    "name": "ipython",
    "version": 3
   },
   "file_extension": ".py",
   "mimetype": "text/x-python",
   "name": "python",
   "nbconvert_exporter": "python",
   "pygments_lexer": "ipython3",
   "version": "3.6.11"
  }
 },
 "nbformat": 4,
 "nbformat_minor": 4
}
