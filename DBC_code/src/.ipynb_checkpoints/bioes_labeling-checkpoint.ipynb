{
 "cells": [
  {
   "cell_type": "code",
   "execution_count": 1,
   "metadata": {},
   "outputs": [
    {
     "data": {
      "text/plain": [
       "<module 'utils.utils' from 'G:\\\\jupyter Notebook\\\\ccf_隐私_deepshare\\\\ccf-隐私-deepshare-baseline\\\\DBC_code\\\\src\\\\utils\\\\utils.py'>"
      ]
     },
     "execution_count": 1,
     "metadata": {},
     "output_type": "execute_result"
    }
   ],
   "source": [
    "import os\n",
    "import codecs\n",
    "from tqdm import tqdm\n",
    "import pandas as pd\n",
    "import numpy as np\n",
    "from utils import utils\n",
    "from glob import glob\n",
    "from sklearn.model_selection import train_test_split\n",
    "from imp import reload\n",
    "reload(utils)"
   ]
  },
  {
   "cell_type": "code",
   "execution_count": 2,
   "metadata": {},
   "outputs": [],
   "source": [
    "# 采用BIOES 标注体系，把数据改成BIOES标注体系\n",
    "def get_BIOES(list_data, df_label):\n",
    "    ''' list_data:待标注数据\n",
    "        df_label:对应数据的标签\n",
    "    '''\n",
    "    list_label = ['O'] * len(list_data)\n",
    "    for index,d in df_label.iterrows():\n",
    "#         print('d:',d)\n",
    "        ID = d['ID']\n",
    "        Category = d['Category']\n",
    "        Pos_b = d['Pos_b']\n",
    "        Pos_e = d['Pos_e']\n",
    "        # 异常数据处理\n",
    "        if 2162 == ID:\n",
    "            Category == '前明骏女孩组合队长\"'\n",
    "            Pos_e = Pos_e - 1\n",
    "\n",
    "        if Pos_b == Pos_e:\n",
    "            list_label[Pos_b] = 'S_' + Category\n",
    "        elif Pos_e - Pos_b == 1:\n",
    "            list_label[Pos_b] = 'B_' + Category\n",
    "            list_label[Pos_e] = 'E_' + Category\n",
    "        else:\n",
    "            # 异常数据处理\n",
    "            try:\n",
    "                list_label[Pos_b] = 'B_' + Category\n",
    "                list_label[Pos_e] = 'E_' + Category \n",
    "                for pos_i in range(Pos_b+1,Pos_e):\n",
    "                    list_label[pos_i] = 'I_' + Category \n",
    "            except:\n",
    "                print('无法标注的样本：',ID)\n",
    "    return [(ID,data,label) for data,label in zip(list_data,list_label)]"
   ]
  },
  {
   "cell_type": "code",
   "execution_count": 3,
   "metadata": {},
   "outputs": [
    {
     "name": "stdout",
     "output_type": "stream",
     "text": [
      "['公', '司', '：', '海', '润', '影', '视', '电', '影', '作', '品', '：', '《', '公', '主', '的', '诱', '惑', '》', '《', '恋', '爱', '三', '万', '英', '尺', '》', '《', '囍', '上', '加', '喜', '》', '音', '乐', '作', '品', '：', '同', '名', '专', '辑', '《', 'S', '公', '主', '》', '经', '纪', '人', '莲', '莲', '：', '1', '3', '9', '1', '0', '2', '2', '0', '8', '9', '2', '，', '歌', '手', '演', '员', '前', '明', '骏', '女', '孩', '组', '合', '队', '长']\n"
     ]
    }
   ],
   "source": [
    "def get_list_data(data_path):\n",
    "    with open(data_path,'r',encoding='utf-8') as fin:\n",
    "        line = ''.join(fin.readlines())\n",
    "        list_data = list(line)\n",
    "    return list_data\n",
    "data = get_list_data(r'G:\\jupyter Notebook\\ccf_隐私_deepshare\\ccf-隐私-deepshare-baseline\\DBC_code\\data\\train_data\\2162.txt')\n",
    "print(data)"
   ]
  },
  {
   "cell_type": "code",
   "execution_count": 4,
   "metadata": {},
   "outputs": [],
   "source": [
    "# 将/data/train_data/,/data/train_label/文件下数据标注出来，并生成对应的文件\n",
    "def get_list_data(data_path):\n",
    "    with open(data_path,'r',encoding='utf-8') as f:\n",
    "        line = ''.join(f.readlines())\n",
    "        list_data = list(line)\n",
    "    return list_data\n",
    "\n",
    "def get_data_label(path_dir_data,path_dir_label):\n",
    "    \n",
    "    # 训练数据集\n",
    "    list_BIOES = []\n",
    "    # 获取训练集 ID\n",
    "    list_data_ID = [file_name.split('.')[0] for file_name in os.listdir(path_dir_data) if '.txt' in file_name]\n",
    "    list_label_ID = [file_name.split('.')[0] for file_name in os.listdir(path_dir_label) if '.csv' in file_name]\n",
    "    \n",
    "    # 循环训练集 ID\n",
    "    for ID in tqdm(set(list_data_ID) & set(list_label_ID)):\n",
    "        # 获取词和标签地址\n",
    "        data_path = os.path.join(path_dir_data,ID+'.txt')\n",
    "        label_path = os.path.join(path_dir_label,ID+'.csv')\n",
    "#         print('data_path:',data_path)\n",
    "#         print('label_path:',label_path)\n",
    "        # 获取词和标签数据\n",
    "        list_data = get_list_data(data_path)\n",
    "        df_label = pd.read_csv(label_path)\n",
    "        \n",
    "        # BIOES 进行标注\n",
    "        BIOES = get_BIOES(list_data, df_label)\n",
    "        \n",
    "        # 加入训练数据集\n",
    "        list_BIOES += [BIOES]\n",
    "        \n",
    "    return list_BIOES"
   ]
  },
  {
   "cell_type": "code",
   "execution_count": 5,
   "metadata": {},
   "outputs": [
    {
     "ename": "FileNotFoundError",
     "evalue": "[WinError 3] 系统找不到指定的路径。: '../data/ext_data/ext_label/'",
     "output_type": "error",
     "traceback": [
      "\u001b[1;31m---------------------------------------------------------------------------\u001b[0m",
      "\u001b[1;31mFileNotFoundError\u001b[0m                         Traceback (most recent call last)",
      "\u001b[1;32m<ipython-input-5-fea664e6764b>\u001b[0m in \u001b[0;36m<module>\u001b[1;34m()\u001b[0m\n\u001b[0;32m      1\u001b[0m \u001b[0mtrain_dir_data\u001b[0m \u001b[1;33m=\u001b[0m \u001b[1;34mr'../data/ext_data/ext_train_data/'\u001b[0m\u001b[1;33m\u001b[0m\u001b[1;33m\u001b[0m\u001b[0m\n\u001b[0;32m      2\u001b[0m \u001b[0mtrain_dir_label\u001b[0m \u001b[1;33m=\u001b[0m \u001b[1;34mr'../data/ext_data/ext_label/'\u001b[0m\u001b[1;33m\u001b[0m\u001b[1;33m\u001b[0m\u001b[0m\n\u001b[1;32m----> 3\u001b[1;33m \u001b[0mlist_BIOES_train\u001b[0m \u001b[1;33m=\u001b[0m \u001b[0mget_data_label\u001b[0m\u001b[1;33m(\u001b[0m\u001b[0mtrain_dir_data\u001b[0m\u001b[1;33m,\u001b[0m\u001b[0mtrain_dir_label\u001b[0m\u001b[1;33m)\u001b[0m\u001b[1;33m\u001b[0m\u001b[1;33m\u001b[0m\u001b[0m\n\u001b[0m\u001b[0;32m      4\u001b[0m \u001b[0mlist_BIOES_train\u001b[0m\u001b[1;33m[\u001b[0m\u001b[1;36m0\u001b[0m\u001b[1;33m]\u001b[0m\u001b[1;33m\u001b[0m\u001b[1;33m\u001b[0m\u001b[0m\n",
      "\u001b[1;32m<ipython-input-4-1830a7e91826>\u001b[0m in \u001b[0;36mget_data_label\u001b[1;34m(path_dir_data, path_dir_label)\u001b[0m\n\u001b[0;32m     12\u001b[0m     \u001b[1;31m# 获取训练集 ID\u001b[0m\u001b[1;33m\u001b[0m\u001b[1;33m\u001b[0m\u001b[1;33m\u001b[0m\u001b[0m\n\u001b[0;32m     13\u001b[0m     \u001b[0mlist_data_ID\u001b[0m \u001b[1;33m=\u001b[0m \u001b[1;33m[\u001b[0m\u001b[0mfile_name\u001b[0m\u001b[1;33m.\u001b[0m\u001b[0msplit\u001b[0m\u001b[1;33m(\u001b[0m\u001b[1;34m'.'\u001b[0m\u001b[1;33m)\u001b[0m\u001b[1;33m[\u001b[0m\u001b[1;36m0\u001b[0m\u001b[1;33m]\u001b[0m \u001b[1;32mfor\u001b[0m \u001b[0mfile_name\u001b[0m \u001b[1;32min\u001b[0m \u001b[0mos\u001b[0m\u001b[1;33m.\u001b[0m\u001b[0mlistdir\u001b[0m\u001b[1;33m(\u001b[0m\u001b[0mpath_dir_data\u001b[0m\u001b[1;33m)\u001b[0m \u001b[1;32mif\u001b[0m \u001b[1;34m'.txt'\u001b[0m \u001b[1;32min\u001b[0m \u001b[0mfile_name\u001b[0m\u001b[1;33m]\u001b[0m\u001b[1;33m\u001b[0m\u001b[1;33m\u001b[0m\u001b[0m\n\u001b[1;32m---> 14\u001b[1;33m     \u001b[0mlist_label_ID\u001b[0m \u001b[1;33m=\u001b[0m \u001b[1;33m[\u001b[0m\u001b[0mfile_name\u001b[0m\u001b[1;33m.\u001b[0m\u001b[0msplit\u001b[0m\u001b[1;33m(\u001b[0m\u001b[1;34m'.'\u001b[0m\u001b[1;33m)\u001b[0m\u001b[1;33m[\u001b[0m\u001b[1;36m0\u001b[0m\u001b[1;33m]\u001b[0m \u001b[1;32mfor\u001b[0m \u001b[0mfile_name\u001b[0m \u001b[1;32min\u001b[0m \u001b[0mos\u001b[0m\u001b[1;33m.\u001b[0m\u001b[0mlistdir\u001b[0m\u001b[1;33m(\u001b[0m\u001b[0mpath_dir_label\u001b[0m\u001b[1;33m)\u001b[0m \u001b[1;32mif\u001b[0m \u001b[1;34m'.csv'\u001b[0m \u001b[1;32min\u001b[0m \u001b[0mfile_name\u001b[0m\u001b[1;33m]\u001b[0m\u001b[1;33m\u001b[0m\u001b[1;33m\u001b[0m\u001b[0m\n\u001b[0m\u001b[0;32m     15\u001b[0m \u001b[1;33m\u001b[0m\u001b[0m\n\u001b[0;32m     16\u001b[0m     \u001b[1;31m# 循环训练集 ID\u001b[0m\u001b[1;33m\u001b[0m\u001b[1;33m\u001b[0m\u001b[1;33m\u001b[0m\u001b[0m\n",
      "\u001b[1;31mFileNotFoundError\u001b[0m: [WinError 3] 系统找不到指定的路径。: '../data/ext_data/ext_label/'"
     ]
    }
   ],
   "source": [
    "train_dir_data = r'../data/ext_data/ext_train_data/'\n",
    "train_dir_label = r'../data/ext_data/ext_label/'\n",
    "list_BIOES_train = get_data_label(train_dir_data,train_dir_label)\n",
    "list_BIOES_train[0]"
   ]
  },
  {
   "cell_type": "code",
   "execution_count": 6,
   "metadata": {},
   "outputs": [
    {
     "name": "stdout",
     "output_type": "stream",
     "text": [
      "train:2263\n",
      "val:252\n"
     ]
    }
   ],
   "source": [
    "# 数据集划分，把数据标注成BIOES格式\n",
    "# symbol = ['。','!','！','?','？','﹗']\n",
    "# 生成样本的参数,样本划分的标点符号\n",
    "symbol = ['？','⋯','…','﹗']\n",
    "max_sent_length = 250\n",
    "max_input_length = 300   \n",
    "\n",
    "data_lst = glob('../data/train_data/*.txt')\n",
    "train_lst,val_lst = train_test_split(data_lst,test_size=0.1,random_state=0)\n",
    "print('train:{}'.format(len(train_lst)))\n",
    "print('val:{}'.format(len(val_lst)))"
   ]
  },
  {
   "cell_type": "code",
   "execution_count": 7,
   "metadata": {},
   "outputs": [
    {
     "name": "stderr",
     "output_type": "stream",
     "text": [
      "100%|██████████| 2263/2263 [02:19<00:00, 16.28it/s]\n",
      "100%|██████████| 252/252 [00:11<00:00, 22.18it/s]\n"
     ]
    }
   ],
   "source": [
    "label_dir = '../data/train_label'\n",
    "# 训练集\n",
    "for data_path in tqdm(train_lst):\n",
    "    file_name = os.path.basename(data_path).split('.')[0]\n",
    "    label_name = file_name+'.csv'\n",
    "    label_path = os.path.join(label_dir,label_name)\n",
    "#     print('label_path:',label_path)\n",
    "    output_path = '../data/train_new_bioes'\n",
    "    output_file = file_name\n",
    "    utils.gen_BIOES_data(label_path, data_path, output_path, output_file,symbol,max_sent_length,max_input_length)\n",
    "# 验证集\n",
    "for data_path in tqdm(val_lst):\n",
    "    file_name = os.path.basename(data_path).split('.')[0]\n",
    "    label_name = file_name+'.csv'\n",
    "    label_path = os.path.join(label_dir,label_name)\n",
    "    output_path = '../data/val_new_bioes'\n",
    "    output_file = file_name\n",
    "    utils.gen_BIOES_data(label_path, data_path, output_path, output_file,symbol,max_sent_length,max_input_length)"
   ]
  },
  {
   "cell_type": "markdown",
   "metadata": {},
   "source": [
    "## 数据集合并成txt"
   ]
  },
  {
   "cell_type": "code",
   "execution_count": 2,
   "metadata": {},
   "outputs": [
    {
     "name": "stdout",
     "output_type": "stream",
     "text": [
      "开始读取文件:aug-0-0.txt\n"
     ]
    },
    {
     "ename": "KeyboardInterrupt",
     "evalue": "",
     "output_type": "error",
     "traceback": [
      "\u001b[1;31m---------------------------------------------------------------------------\u001b[0m",
      "\u001b[1;31mKeyboardInterrupt\u001b[0m                         Traceback (most recent call last)",
      "\u001b[1;32m<ipython-input-2-0c77c6296c00>\u001b[0m in \u001b[0;36m<module>\u001b[1;34m()\u001b[0m\n\u001b[0;32m     14\u001b[0m         \u001b[1;32mwhile\u001b[0m \u001b[0mline\u001b[0m \u001b[1;33m!=\u001b[0m \u001b[1;34m\"END O\"\u001b[0m\u001b[1;33m:\u001b[0m\u001b[1;33m\u001b[0m\u001b[1;33m\u001b[0m\u001b[0m\n\u001b[0;32m     15\u001b[0m             \u001b[0mq_list\u001b[0m\u001b[1;33m.\u001b[0m\u001b[0mappend\u001b[0m\u001b[1;33m(\u001b[0m\u001b[0mline\u001b[0m\u001b[1;33m)\u001b[0m\u001b[1;33m\u001b[0m\u001b[1;33m\u001b[0m\u001b[0m\n\u001b[1;32m---> 16\u001b[1;33m             \u001b[0mline\u001b[0m \u001b[1;33m=\u001b[0m \u001b[0mf\u001b[0m\u001b[1;33m.\u001b[0m\u001b[0mreadline\u001b[0m\u001b[1;33m(\u001b[0m\u001b[1;33m)\u001b[0m\u001b[1;33m\u001b[0m\u001b[1;33m\u001b[0m\u001b[0m\n\u001b[0m\u001b[0;32m     17\u001b[0m             \u001b[0mline\u001b[0m \u001b[1;33m=\u001b[0m \u001b[0mline\u001b[0m\u001b[1;33m.\u001b[0m\u001b[0mstrip\u001b[0m\u001b[1;33m(\u001b[0m\u001b[1;34m\"\\n\\r\"\u001b[0m\u001b[1;33m)\u001b[0m\u001b[1;33m\u001b[0m\u001b[1;33m\u001b[0m\u001b[0m\n\u001b[0;32m     18\u001b[0m     \u001b[0mprint\u001b[0m\u001b[1;33m(\u001b[0m\u001b[1;34m\"开始写入文本%s\"\u001b[0m \u001b[1;33m%\u001b[0m \u001b[0mw_path\u001b[0m\u001b[1;33m)\u001b[0m\u001b[1;33m\u001b[0m\u001b[1;33m\u001b[0m\u001b[0m\n",
      "\u001b[1;32mD:\\WinAPP\\dev_app\\anaconda\\envs\\ner\\lib\\codecs.py\u001b[0m in \u001b[0;36mdecode\u001b[1;34m(self, input, final)\u001b[0m\n\u001b[0;32m    316\u001b[0m         \u001b[1;32mraise\u001b[0m \u001b[0mNotImplementedError\u001b[0m\u001b[1;33m\u001b[0m\u001b[1;33m\u001b[0m\u001b[0m\n\u001b[0;32m    317\u001b[0m \u001b[1;33m\u001b[0m\u001b[0m\n\u001b[1;32m--> 318\u001b[1;33m     \u001b[1;32mdef\u001b[0m \u001b[0mdecode\u001b[0m\u001b[1;33m(\u001b[0m\u001b[0mself\u001b[0m\u001b[1;33m,\u001b[0m \u001b[0minput\u001b[0m\u001b[1;33m,\u001b[0m \u001b[0mfinal\u001b[0m\u001b[1;33m=\u001b[0m\u001b[1;32mFalse\u001b[0m\u001b[1;33m)\u001b[0m\u001b[1;33m:\u001b[0m\u001b[1;33m\u001b[0m\u001b[1;33m\u001b[0m\u001b[0m\n\u001b[0m\u001b[0;32m    319\u001b[0m         \u001b[1;31m# decode input (taking the buffer into account)\u001b[0m\u001b[1;33m\u001b[0m\u001b[1;33m\u001b[0m\u001b[1;33m\u001b[0m\u001b[0m\n\u001b[0;32m    320\u001b[0m         \u001b[0mdata\u001b[0m \u001b[1;33m=\u001b[0m \u001b[0mself\u001b[0m\u001b[1;33m.\u001b[0m\u001b[0mbuffer\u001b[0m \u001b[1;33m+\u001b[0m \u001b[0minput\u001b[0m\u001b[1;33m\u001b[0m\u001b[1;33m\u001b[0m\u001b[0m\n",
      "\u001b[1;31mKeyboardInterrupt\u001b[0m: "
     ]
    }
   ],
   "source": [
    "# 训练集合并\n",
    "# w_path = \"../data/test_bioes.txt\"\n",
    "w_path = '../data/train_aug_bioes/train_aug_bioes.txt' \n",
    "path_dir = \"../data/train_aug_bioes/train_bioes/\"\n",
    "for file in os.listdir(path_dir):\n",
    "    path = os.path.join(path_dir, file)\n",
    "    if not file.endswith(\".txt\"):  \n",
    "        continue\n",
    "    q_list = []\n",
    "    print(\"开始读取文件:%s\" % file)\n",
    "    with open(path, \"r\", encoding=\"utf-8\") as f:\n",
    "        line = f.readline()\n",
    "        line = line.strip(\"\\n\\r\")\n",
    "#         while line != \"END O\":\n",
    "        while line != 'D\tO':\n",
    "            q_list.append(line)\n",
    "            line = f.readline()\n",
    "            line = line.strip(\"\\n\\r\")\n",
    "    print(\"开始写入文本%s\" % w_path)\n",
    "    with codecs.open(w_path, \"a\", encoding=\"utf-8\") as f:\n",
    "        for item in q_list:\n",
    "            if item.__contains__('\\ufeff'):\n",
    "                print(\"===============\")\n",
    "            f.write('%s\\n' % item)\n",
    "        # 对于每个文本结束，都写个换行符，这样做有什么作用么，还是仅仅为了方便查找问题？             \n",
    "        f.write('\\n')\n",
    "    f.close()"
   ]
  },
  {
   "cell_type": "code",
   "execution_count": 83,
   "metadata": {},
   "outputs": [],
   "source": [
    "# 验证集合并\n",
    "w_path = \"../data/val_bioes.txt\"\n",
    "for file in os.listdir('../data/val_new_bioes/'):\n",
    "    path = os.path.join(\"../data/val_new_bioes\", file)\n",
    "    if not file.endswith(\".txt\"):  \n",
    "        continue\n",
    "    q_list = []\n",
    "\n",
    "    with codecs.open(path, \"r\", encoding=\"utf-8\") as f:\n",
    "        line = f.readline()\n",
    "        line = line.strip(\"\\n\\r\")\n",
    "        while line != \"END O\":\n",
    "            q_list.append(line)\n",
    "            line = f.readline()\n",
    "            line = line.strip(\"\\n\\r\")\n",
    "    \n",
    "    with codecs.open(w_path, \"a\", encoding=\"utf-8\") as f:\n",
    "        for item in q_list:\n",
    "            if item.__contains__('\\ufeff'):\n",
    "                print(\"===============\")\n",
    "            f.write('%s\\n' % item)\n",
    "        f.write('\\n')\n",
    "    f.close()"
   ]
  },
  {
   "cell_type": "code",
   "execution_count": null,
   "metadata": {},
   "outputs": [],
   "source": []
  }
 ],
 "metadata": {
  "kernelspec": {
   "display_name": "ner",
   "language": "python",
   "name": "ner"
  },
  "language_info": {
   "codemirror_mode": {
    "name": "ipython",
    "version": 3
   },
   "file_extension": ".py",
   "mimetype": "text/x-python",
   "name": "python",
   "nbconvert_exporter": "python",
   "pygments_lexer": "ipython3",
   "version": "3.6.11"
  }
 },
 "nbformat": 4,
 "nbformat_minor": 4
}
