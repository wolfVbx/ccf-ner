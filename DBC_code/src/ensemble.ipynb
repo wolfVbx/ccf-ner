{
 "cells": [
  {
   "cell_type": "markdown",
   "metadata": {},
   "source": [
    "## 对模型的结果做融合"
   ]
  },
  {
   "cell_type": "code",
   "execution_count": 6,
   "metadata": {},
   "outputs": [],
   "source": [
    "def read_txt(filename, use_line=True):\n",
    "    \"\"\"\n",
    "    读取 txt 数据\n",
    "    filename : str\n",
    "    use_line : bool\n",
    "    return   : list\n",
    "    \"\"\"\n",
    "    with open(filename, 'r', encoding='utf8') as f:\n",
    "        if use_line:\n",
    "            ret = f.readlines()\n",
    "        else:\n",
    "            ret = f.read()\n",
    "    return ret\n",
    "\n",
    "def checkout(filename):\n",
    "    \"\"\"\n",
    "    检查提交数据\n",
    "    filename : str\n",
    "    \"\"\"\n",
    "    all_lines = read_txt(filename)\n",
    "    for line in all_lines:\n",
    "        if not line.split('\\n')[-1] == '':\n",
    "            print(line)\n",
    "\n",
    "        else:\n",
    "            if len((line.split('\\n')[0]).split(',')) != 5:\n",
    "                print(line)"
   ]
  },
  {
   "cell_type": "code",
   "execution_count": 7,
   "metadata": {},
   "outputs": [],
   "source": [
    "import codecs\n",
    "from collections import Counter\n",
    "\n",
    "def load_all_res(file_list):\n",
    "    res_f = []\n",
    "    for file in file_list:\n",
    "        with codecs.open(file, 'r', 'utf-8') as f:\n",
    "            lines = f.readlines()[1:]\n",
    "            for l in lines:\n",
    "                l = l.strip()\n",
    "                res_f.append(l)\n",
    "    c = Counter(res_f)\n",
    "    with codecs.open('../submit/emsebled_res.txt', 'a', 'utf-8') as out_f:\n",
    "        out_f.write('ID,Category,Pos_b,Pos_e,Privacy\\n')\n",
    "        for i in c.most_common():\n",
    "            if i[-1] >= 2:\n",
    "                out_f.write(i[0]+'\\n')"
   ]
  },
  {
   "cell_type": "code",
   "execution_count": 8,
   "metadata": {},
   "outputs": [
    {
     "name": "stdout",
     "output_type": "stream",
     "text": [
      "../ensemble\\predict20201124_BIOES.csv\n",
      "../ensemble\\predict20201201_BIOES.csv\n",
      "../ensemble\\predict20201202_BIOES.csv\n",
      "../ensemble\\predict20201204_BIOES_aug.csv\n",
      "../ensemble\\predict20201204_bio_aug.csv\n"
     ]
    }
   ],
   "source": [
    "from glob import glob\n",
    "data_lst = glob('../ensemble/*.csv')               \n",
    "                \n",
    "for f in data_lst:\n",
    "    print(f)\n",
    "    checkout(f)\n",
    "    \n",
    "res = load_all_res(data_lst)"
   ]
  },
  {
   "cell_type": "code",
   "execution_count": 23,
   "metadata": {},
   "outputs": [
    {
     "data": {
      "text/html": [
       "<div>\n",
       "<style scoped>\n",
       "    .dataframe tbody tr th:only-of-type {\n",
       "        vertical-align: middle;\n",
       "    }\n",
       "\n",
       "    .dataframe tbody tr th {\n",
       "        vertical-align: top;\n",
       "    }\n",
       "\n",
       "    .dataframe thead th {\n",
       "        text-align: right;\n",
       "    }\n",
       "</style>\n",
       "<table border=\"1\" class=\"dataframe\">\n",
       "  <thead>\n",
       "    <tr style=\"text-align: right;\">\n",
       "      <th></th>\n",
       "      <th>ID</th>\n",
       "      <th>Category</th>\n",
       "      <th>Pos_b</th>\n",
       "      <th>Pos_e</th>\n",
       "      <th>Privacy</th>\n",
       "    </tr>\n",
       "  </thead>\n",
       "  <tbody>\n",
       "    <tr>\n",
       "      <th>115</th>\n",
       "      <td>1022</td>\n",
       "      <td>QQ</td>\n",
       "      <td>22</td>\n",
       "      <td>31</td>\n",
       "      <td>2206412941</td>\n",
       "    </tr>\n",
       "    <tr>\n",
       "      <th>127</th>\n",
       "      <td>1026</td>\n",
       "      <td>QQ</td>\n",
       "      <td>57</td>\n",
       "      <td>64</td>\n",
       "      <td>73270228</td>\n",
       "    </tr>\n",
       "    <tr>\n",
       "      <th>346</th>\n",
       "      <td>1061</td>\n",
       "      <td>QQ</td>\n",
       "      <td>65</td>\n",
       "      <td>74</td>\n",
       "      <td>1085847619</td>\n",
       "    </tr>\n",
       "    <tr>\n",
       "      <th>499</th>\n",
       "      <td>1100</td>\n",
       "      <td>QQ</td>\n",
       "      <td>19</td>\n",
       "      <td>27</td>\n",
       "      <td>116463151</td>\n",
       "    </tr>\n",
       "    <tr>\n",
       "      <th>825</th>\n",
       "      <td>1155</td>\n",
       "      <td>QQ</td>\n",
       "      <td>10</td>\n",
       "      <td>18</td>\n",
       "      <td>362505852</td>\n",
       "    </tr>\n",
       "    <tr>\n",
       "      <th>...</th>\n",
       "      <td>...</td>\n",
       "      <td>...</td>\n",
       "      <td>...</td>\n",
       "      <td>...</td>\n",
       "      <td>...</td>\n",
       "    </tr>\n",
       "    <tr>\n",
       "      <th>28002</th>\n",
       "      <td>3228</td>\n",
       "      <td>QQ</td>\n",
       "      <td>79</td>\n",
       "      <td>88</td>\n",
       "      <td>2048598383</td>\n",
       "    </tr>\n",
       "    <tr>\n",
       "      <th>28037</th>\n",
       "      <td>3473</td>\n",
       "      <td>QQ</td>\n",
       "      <td>60</td>\n",
       "      <td>69</td>\n",
       "      <td>q289764481</td>\n",
       "    </tr>\n",
       "    <tr>\n",
       "      <th>28062</th>\n",
       "      <td>3731</td>\n",
       "      <td>QQ</td>\n",
       "      <td>40</td>\n",
       "      <td>48</td>\n",
       "      <td>133453884</td>\n",
       "    </tr>\n",
       "    <tr>\n",
       "      <th>28116</th>\n",
       "      <td>717</td>\n",
       "      <td>QQ</td>\n",
       "      <td>40</td>\n",
       "      <td>50</td>\n",
       "      <td>15000411588</td>\n",
       "    </tr>\n",
       "    <tr>\n",
       "      <th>28127</th>\n",
       "      <td>788</td>\n",
       "      <td>QQ</td>\n",
       "      <td>38</td>\n",
       "      <td>47</td>\n",
       "      <td>4000292269</td>\n",
       "    </tr>\n",
       "  </tbody>\n",
       "</table>\n",
       "<p>165 rows × 5 columns</p>\n",
       "</div>"
      ],
      "text/plain": [
       "         ID Category  Pos_b  Pos_e      Privacy\n",
       "115    1022       QQ     22     31   2206412941\n",
       "127    1026       QQ     57     64     73270228\n",
       "346    1061       QQ     65     74   1085847619\n",
       "499    1100       QQ     19     27    116463151\n",
       "825    1155       QQ     10     18    362505852\n",
       "...     ...      ...    ...    ...          ...\n",
       "28002  3228       QQ     79     88   2048598383\n",
       "28037  3473       QQ     60     69   q289764481\n",
       "28062  3731       QQ     40     48    133453884\n",
       "28116   717       QQ     40     50  15000411588\n",
       "28127   788       QQ     38     47   4000292269\n",
       "\n",
       "[165 rows x 5 columns]"
      ]
     },
     "execution_count": 23,
     "metadata": {},
     "output_type": "execute_result"
    }
   ],
   "source": [
    "# 对模型做后处理\n",
    "import pandas as pd\n",
    "ensembled_file = '../submit/ensembled_res.txt'\n",
    "# result = read_txt(ensembled_file)\n",
    "pd_result = pd.read_table(ensembled_file,sep=',')\n",
    "pd_qq=pd_result[pd_result['Category']=='QQ'] #.apply(lambda x:)\n",
    "pd_qq\n",
    "# pd_qq.to_csv('../pd_qq.csv',index=False)"
   ]
  },
  {
   "cell_type": "code",
   "execution_count": 24,
   "metadata": {},
   "outputs": [],
   "source": [
    "predict20201124_BIOES = pd.read_csv('../ensemble/predict20201124_BIOES.csv',sep=',')\n",
    "pd_qq_predict20201124_BIOES=predict20201124_BIOES[predict20201124_BIOES['Category']=='QQ']\n",
    "pd_qq_predict20201124_BIOES.to_csv('../predict20201124_BIOES.csv',index=False)"
   ]
  },
  {
   "cell_type": "code",
   "execution_count": 25,
   "metadata": {},
   "outputs": [
    {
     "name": "stderr",
     "output_type": "stream",
     "text": [
      "G:\\jupyter Notebook\\ccf_隐私_deepshare\\ccf-隐私-deepshare-baseline\\DBC_code\\src\\utils\\utils.py:129: SyntaxWarning: \"is\" with a literal. Did you mean \"==\"?\n",
      "  if str_ is \" \" or str_ == \"\" or str_ == \"\\n\" or str_ == \"\\r\":\n",
      "G:\\jupyter Notebook\\ccf_隐私_deepshare\\ccf-隐私-deepshare-baseline\\DBC_code\\src\\utils\\utils.py:178: SyntaxWarning: \"is\" with a literal. Did you mean \"==\"?\n",
      "  if str_ is \" \" or str_ == \"\" or str_ == \"\\n\" or str_ == \"\\r\":\n"
     ]
    },
    {
     "ename": "ModuleNotFoundError",
     "evalue": "No module named 'bert4keras'",
     "output_type": "error",
     "traceback": [
      "\u001b[1;31m---------------------------------------------------------------------------\u001b[0m",
      "\u001b[1;31mModuleNotFoundError\u001b[0m                       Traceback (most recent call last)",
      "\u001b[1;32m<ipython-input-25-3cfa490cb1c6>\u001b[0m in \u001b[0;36m<module>\u001b[1;34m\u001b[0m\n\u001b[1;32m----> 1\u001b[1;33m \u001b[1;32mfrom\u001b[0m \u001b[0mutils\u001b[0m \u001b[1;32mimport\u001b[0m \u001b[0mutils\u001b[0m\u001b[1;33m\u001b[0m\u001b[1;33m\u001b[0m\u001b[0m\n\u001b[0m",
      "\u001b[1;32mG:\\jupyter Notebook\\ccf_隐私_deepshare\\ccf-隐私-deepshare-baseline\\DBC_code\\src\\utils\\utils.py\u001b[0m in \u001b[0;36m<module>\u001b[1;34m\u001b[0m\n\u001b[1;32m----> 1\u001b[1;33m \u001b[1;32mfrom\u001b[0m \u001b[0mbert4keras\u001b[0m\u001b[1;33m.\u001b[0m\u001b[0msnippets\u001b[0m \u001b[1;32mimport\u001b[0m \u001b[0msequence_padding\u001b[0m\u001b[1;33m,\u001b[0m \u001b[0mDataGenerator\u001b[0m\u001b[1;33m\u001b[0m\u001b[1;33m\u001b[0m\u001b[0m\n\u001b[0m\u001b[0;32m      2\u001b[0m \u001b[1;32mimport\u001b[0m \u001b[0mpandas\u001b[0m \u001b[1;32mas\u001b[0m \u001b[0mpd\u001b[0m\u001b[1;33m\u001b[0m\u001b[1;33m\u001b[0m\u001b[0m\n\u001b[0;32m      3\u001b[0m \u001b[1;32mimport\u001b[0m \u001b[0mos\u001b[0m\u001b[1;33m\u001b[0m\u001b[1;33m\u001b[0m\u001b[0m\n\u001b[0;32m      4\u001b[0m \u001b[1;33m\u001b[0m\u001b[0m\n\u001b[0;32m      5\u001b[0m \u001b[1;32mdef\u001b[0m \u001b[0mread_txt\u001b[0m\u001b[1;33m(\u001b[0m\u001b[0mfilename\u001b[0m\u001b[1;33m,\u001b[0m \u001b[0muse_line\u001b[0m\u001b[1;33m=\u001b[0m\u001b[1;32mTrue\u001b[0m\u001b[1;33m)\u001b[0m\u001b[1;33m:\u001b[0m\u001b[1;33m\u001b[0m\u001b[1;33m\u001b[0m\u001b[0m\n",
      "\u001b[1;31mModuleNotFoundError\u001b[0m: No module named 'bert4keras'"
     ]
    }
   ],
   "source": [
    "from utils import utils"
   ]
  },
  {
   "cell_type": "code",
   "execution_count": null,
   "metadata": {},
   "outputs": [],
   "source": [
    "train_data = utils.load_data('../data/train_bioes.txt')\n",
    "valid_data = utils.load_data('../data/val_bioes.txt')"
   ]
  }
 ],
 "metadata": {
  "kernelspec": {
   "display_name": "Python 3",
   "language": "python",
   "name": "python3"
  },
  "language_info": {
   "codemirror_mode": {
    "name": "ipython",
    "version": 3
   },
   "file_extension": ".py",
   "mimetype": "text/x-python",
   "name": "python",
   "nbconvert_exporter": "python",
   "pygments_lexer": "ipython3",
   "version": "3.8.3"
  }
 },
 "nbformat": 4,
 "nbformat_minor": 4
}
